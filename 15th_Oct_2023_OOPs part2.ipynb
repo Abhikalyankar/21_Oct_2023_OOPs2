{
 "cells": [
  {
   "cell_type": "markdown",
   "id": "b28e5815-c41f-4657-b0de-21e48cb0a692",
   "metadata": {},
   "source": [
    "# Assignment 2: OOPS"
   ]
  },
  {
   "cell_type": "markdown",
   "id": "f2e795f6-8fff-45ce-9240-aa1f50592240",
   "metadata": {},
   "source": [
    "## Constructor:"
   ]
  },
  {
   "cell_type": "markdown",
   "id": "c49588a5-0730-405d-a1fe-ff5006d40383",
   "metadata": {},
   "source": [
    "### Que 1) What is a constructor in Python? Explain its purpose and usage."
   ]
  },
  {
   "cell_type": "markdown",
   "id": "83ed0b19-6293-4e7e-8c51-792b4a637a15",
   "metadata": {},
   "source": [
    "#### Answer:- A constructor in Python is a special method that is automatically called when an instance (object) of a class is created. The purpose of the constructor is to initialize the object's attributes and to perform any other setup procedures required for the object."
   ]
  },
  {
   "cell_type": "code",
   "execution_count": null,
   "id": "2ead8383-6e55-4dbb-bcd1-7c4e28dafa9e",
   "metadata": {},
   "outputs": [],
   "source": []
  },
  {
   "cell_type": "markdown",
   "id": "2d3aed9f-4fe4-4976-8dcc-f76d8a1a0ee3",
   "metadata": {},
   "source": [
    "### Que 2) Differentiate between a parameterless constructor and a parameterized constructor in Python."
   ]
  },
  {
   "cell_type": "markdown",
   "id": "9618c5f2-c831-4263-bc19-ea2f8c732564",
   "metadata": {},
   "source": [
    "#### Answer:- 1) Parameterless Constructor:- A parameterless constructor is a constructor that does not take any parameters other than self. It is used to initialize an object with default values or to perform setup procedures that do not depend on any external input.\n",
    "\n",
    "#### 2) Parameterized Constructor :- A parameterized constructor is a constructor that takes one or more parameters (in addition to self). These parameters are used to initialize the object's attributes with specific values provided at the time of object creation."
   ]
  },
  {
   "cell_type": "code",
   "execution_count": null,
   "id": "2d67ae59-f6cd-401a-bf9e-a922bcec6572",
   "metadata": {},
   "outputs": [],
   "source": []
  },
  {
   "cell_type": "markdown",
   "id": "f9aeea4c-822f-4954-8703-d067c5f625fb",
   "metadata": {},
   "source": [
    "### Que 3) How do you define a constructor in a Python class? Provide an example."
   ]
  },
  {
   "cell_type": "markdown",
   "id": "42cfc45a-ceed-441f-885f-019634bdec46",
   "metadata": {},
   "source": [
    "#### Answer:- In Python, you define a constructor in a class using the special method __init__. This method is automatically called when an instance of the class is created. The __init__ method can accept parameters to initialize the attributes of the class"
   ]
  },
  {
   "cell_type": "code",
   "execution_count": null,
   "id": "55d6c7f0-9dd8-415c-9c84-b8433c0886fc",
   "metadata": {},
   "outputs": [],
   "source": [
    "class Car:\n",
    "    def __init__(self, make, model, year):\n",
    "        self.make = make  # Initialize the 'make' attribute\n",
    "        self.model = model  # Initialize the 'model' attribute\n",
    "        self.year = year  # Initialize the 'year' attribute\n",
    "    \n",
    "    def display_info(self):\n",
    "        print(f\"Car: {self.year} {self.make} {self.model}\")\n",
    "\n",
    "# Creating an instance of the Car class\n",
    "my_car = Car(\"Toyota\", \"Camry\", 2020)\n",
    "\n",
    "# Accessing the attributes and methods of the instance\n",
    "print(my_car.make)  # Output: Toyota\n",
    "print(my_car.model)  # Output: Camry\n",
    "print(my_car.year)  # Output: 2020\n",
    "my_car.display_info()  # Output: Car: 2020 Toyota Camry\n"
   ]
  },
  {
   "cell_type": "code",
   "execution_count": null,
   "id": "034c377e-e29f-4696-87f1-14df0aaeff3f",
   "metadata": {},
   "outputs": [],
   "source": []
  },
  {
   "cell_type": "markdown",
   "id": "c267ca94-b059-4a61-a43c-5b8085187e4a",
   "metadata": {},
   "source": [
    "### Que 4) Explain the __init__ method in Python and its role in constructors."
   ]
  },
  {
   "cell_type": "markdown",
   "id": "14c77177-123b-44c7-bb7f-ca3b28fba4ff",
   "metadata": {},
   "source": [
    "#### Answer:- The __init__ method in Python is a special method that serves as the constructor for a class. It is automatically invoked when an instance of the class is created. The primary role of the __init__ method is to initialize the newly created object's attributes and perform any necessary setup or configuration."
   ]
  },
  {
   "cell_type": "code",
   "execution_count": null,
   "id": "44ff954a-3e53-4e54-ab83-4e79b5fa5bf6",
   "metadata": {},
   "outputs": [],
   "source": []
  },
  {
   "cell_type": "markdown",
   "id": "77e405ed-f0cd-479d-993b-01ceb1ed7a7c",
   "metadata": {},
   "source": [
    "### Que 5) In a class named `Person`, create a constructor that initializes the `name` and `age` attributes. Provide an example of creating an object of this class."
   ]
  },
  {
   "cell_type": "code",
   "execution_count": 4,
   "id": "44ec6cf6-420d-444c-bf97-dd704958d885",
   "metadata": {},
   "outputs": [],
   "source": [
    "class Person:\n",
    "    def __init__(self, name, age):\n",
    "        self.name = name\n",
    "        self.age = age\n",
    "        \n",
    "    def display(self):\n",
    "        print(f\"Name: {self.name}, Age: {self.age}\")"
   ]
  },
  {
   "cell_type": "code",
   "execution_count": 10,
   "id": "ce8c7cbe-3a45-4860-af51-fdbbb2931902",
   "metadata": {},
   "outputs": [
    {
     "name": "stdout",
     "output_type": "stream",
     "text": [
      "Abhi\n",
      "23\n"
     ]
    }
   ],
   "source": [
    "Person1 = Person(\"Abhi\", 23)\n",
    "print(Person1.name)\n",
    "print(Person1.age)"
   ]
  },
  {
   "cell_type": "code",
   "execution_count": null,
   "id": "1ece4f40-f761-4bb5-b742-71d39bacad73",
   "metadata": {},
   "outputs": [],
   "source": []
  },
  {
   "cell_type": "markdown",
   "id": "73d529ee-49a2-405a-944e-951fa422d010",
   "metadata": {},
   "source": [
    "### Que 6) How can you call a constructor explicitly in Python? Give an example."
   ]
  },
  {
   "cell_type": "code",
   "execution_count": 11,
   "id": "c74e6521-e8b6-4d13-9d22-d8539732a05a",
   "metadata": {},
   "outputs": [
    {
     "name": "stdout",
     "output_type": "stream",
     "text": [
      "Name: Alice, Age: 30\n"
     ]
    }
   ],
   "source": [
    "#### Usual Way of Creating an Instance\n",
    "class Person:\n",
    "    def __init__(self, name, age):\n",
    "        self.name = name\n",
    "        self.age = age\n",
    "    \n",
    "    def display(self):\n",
    "        print(f\"Name: {self.name}, Age: {self.age}\")\n",
    "\n",
    "# Creating an instance of the Person class\n",
    "person1 = Person(\"Alice\", 30)\n",
    "person1.display()  # Output: Name: Alice, Age: 30\n"
   ]
  },
  {
   "cell_type": "code",
   "execution_count": 12,
   "id": "83e90d43-da40-4e9f-8d51-a482593d3431",
   "metadata": {},
   "outputs": [
    {
     "name": "stdout",
     "output_type": "stream",
     "text": [
      "Name: Alice, Age: 30\n",
      "Name: Bob, Age: 25\n"
     ]
    }
   ],
   "source": [
    "#### Explicitly Calling the Constructor\n",
    "class Person:\n",
    "    def __init__(self, name, age):\n",
    "        self.name = name\n",
    "        self.age = age\n",
    "    \n",
    "    def display(self):\n",
    "        print(f\"Name: {self.name}, Age: {self.age}\")\n",
    "\n",
    "# Creating an instance of the Person class\n",
    "person1 = Person(\"Alice\", 30)\n",
    "person1.display()  # Output: Name: Alice, Age: 30\n",
    "\n",
    "# Explicitly calling the constructor on the existing instance\n",
    "person1.__init__(\"Bob\", 25)\n",
    "person1.display()  # Output: Name: Bob, Age: 25\n"
   ]
  },
  {
   "cell_type": "code",
   "execution_count": null,
   "id": "64f25a6a-351e-465f-b000-e1b1be7d52db",
   "metadata": {},
   "outputs": [],
   "source": []
  },
  {
   "cell_type": "markdown",
   "id": "8e91a565-fc02-4c98-983c-968d67e81efd",
   "metadata": {},
   "source": [
    "### Que 7) What is the significance of the `self` parameter in Python constructors? Explain with an example."
   ]
  },
  {
   "cell_type": "markdown",
   "id": "4e5cc899-76d2-44ae-84ba-773e318dee2e",
   "metadata": {},
   "source": [
    "#### In Python, the self parameter in constructors (and in other instance methods) is a reference to the current instance of the class. It is used to access variables and methods that belong to the class. The self parameter is a convention and can be named anything, but self is the widely accepted and used convention."
   ]
  },
  {
   "cell_type": "code",
   "execution_count": null,
   "id": "2b892383-9756-4b2a-b17b-097c18860c6c",
   "metadata": {},
   "outputs": [],
   "source": []
  },
  {
   "cell_type": "markdown",
   "id": "8394135a-1652-4440-97f5-75258ee94772",
   "metadata": {},
   "source": [
    "### Que 8) Discuss the concept of default constructors in Python. When are they used?"
   ]
  },
  {
   "cell_type": "markdown",
   "id": "b970e7dc-9720-4e79-b006-81737fb49075",
   "metadata": {},
   "source": [
    "#### In Python, a default constructor is a constructor that does not accept any arguments other than the implicit self parameter. Python will automatically provide a default constructor if no __init__ method is defined in the class. This default constructor does nothing and simply returns the new instance without initializing any attributes."
   ]
  },
  {
   "cell_type": "code",
   "execution_count": null,
   "id": "4f672966-ce8a-4e97-83b0-8984b9c76fde",
   "metadata": {},
   "outputs": [],
   "source": []
  },
  {
   "cell_type": "markdown",
   "id": "76d380bc-1f6b-4762-bfe1-8549586a3de3",
   "metadata": {},
   "source": [
    "### 9) Create a Python class called `Rectangle` with a constructor that initializes the `width` and `height` attributes. Provide a method to calculate the area of the rectangle."
   ]
  },
  {
   "cell_type": "code",
   "execution_count": 14,
   "id": "cb09c495-129f-404e-a044-232e8a6b8b29",
   "metadata": {},
   "outputs": [
    {
     "name": "stdout",
     "output_type": "stream",
     "text": [
      "20\n"
     ]
    }
   ],
   "source": [
    "class Rectangle:\n",
    "    def __init__(self, width, height):\n",
    "        self.width = width\n",
    "        self.height = height\n",
    "        \n",
    "    def cal_area(self):\n",
    "        return self.width * self.height\n",
    "    \n",
    "rectangle = Rectangle(5,4)\n",
    "\n",
    "print(rectangle.cal_area())"
   ]
  },
  {
   "cell_type": "code",
   "execution_count": null,
   "id": "0d5539bc-683c-46a3-9428-f73d5ea488b7",
   "metadata": {},
   "outputs": [],
   "source": []
  },
  {
   "cell_type": "markdown",
   "id": "733bba76-4a03-47fe-b9b7-cc1a79ba3ec7",
   "metadata": {},
   "source": [
    "### Que 10) How can you have multiple constructors in a Python class? Explain with an example."
   ]
  },
  {
   "cell_type": "code",
   "execution_count": 1,
   "id": "e996de72-78b0-4e2d-8c5a-5718e00344e9",
   "metadata": {},
   "outputs": [
    {
     "name": "stdout",
     "output_type": "stream",
     "text": [
      "Rectangle1 -> Width: 5, Height: 3, Area: 15\n",
      "Square -> Width: 4, Height: 4, Area: 16\n",
      "Rectangle2 -> Width: 7, Height: 2, Area: 14\n"
     ]
    }
   ],
   "source": [
    "class Rectangle:\n",
    "    def __init__(self, width, height):\n",
    "        self.width = width\n",
    "        self.height = height\n",
    "        \n",
    "    @classmethod\n",
    "    def from_sq(cls, side_len):\n",
    "        return cls(side_len, side_len)\n",
    "    \n",
    "    @classmethod\n",
    "    def from_dimensions(cls, width, height):\n",
    "        return cls(width, height)\n",
    "    \n",
    "    def calculate_area(self):\n",
    "        return self.width * self.height\n",
    "    \n",
    "rectangle1 = Rectangle(5, 3)\n",
    "print(f\"Rectangle1 -> Width: {rectangle1.width}, Height: {rectangle1.height}, Area: {rectangle1.calculate_area()}\")\n",
    "\n",
    "# Creating an instance using the from_square class method\n",
    "square = Rectangle.from_sq(4)\n",
    "print(f\"Square -> Width: {square.width}, Height: {square.height}, Area: {square.calculate_area()}\")\n",
    "\n",
    "# Creating an instance using the from_dimensions class method\n",
    "rectangle2 = Rectangle.from_dimensions(7, 2)\n",
    "print(f\"Rectangle2 -> Width: {rectangle2.width}, Height: {rectangle2.height}, Area: {rectangle2.calculate_area()}\")"
   ]
  },
  {
   "cell_type": "code",
   "execution_count": null,
   "id": "23075fb9-a434-4234-8810-4ed44856ad05",
   "metadata": {},
   "outputs": [],
   "source": []
  },
  {
   "cell_type": "markdown",
   "id": "4068a511-b9c7-4984-bc66-c2ae825dbf95",
   "metadata": {},
   "source": [
    "### Que 11) What is method overloading, and how is it related to constructors in Python?"
   ]
  },
  {
   "cell_type": "markdown",
   "id": "5593959f-2ef1-4154-ac84-3989a1a40eb4",
   "metadata": {},
   "source": [
    "#### Method overloading is a feature in object-oriented programming where multiple methods in the same class can have the same name but different parameters. In many languages, method overloading allows methods to be defined with the same name but different argument lists (number or types of arguments). However, Python handles method overloading differently compared to some other languages."
   ]
  },
  {
   "cell_type": "code",
   "execution_count": null,
   "id": "04fcbe06-0eba-4fd5-84b1-c9a8866ed638",
   "metadata": {},
   "outputs": [],
   "source": []
  },
  {
   "cell_type": "markdown",
   "id": "d7beaced-683c-43e2-a80e-1d1ea4ac88bc",
   "metadata": {},
   "source": [
    "### Que 12) Explain the use of the `super()` function in Python constructors. Provide an example."
   ]
  },
  {
   "cell_type": "markdown",
   "id": "b09f925b-1bc1-4200-84ab-947015fc35fb",
   "metadata": {},
   "source": [
    "#### The super() function in Python is a powerful feature used in object-oriented programming to call methods from a parent or superclass. It is particularly useful in constructors to ensure that the initialization logic of a base class is executed before extending or modifying it in a subclass."
   ]
  },
  {
   "cell_type": "code",
   "execution_count": 2,
   "id": "38acc7c2-cbff-4f77-a7ee-449c860fc641",
   "metadata": {},
   "outputs": [
    {
     "name": "stdout",
     "output_type": "stream",
     "text": [
      "Animal initialized with name: Buddy\n",
      "Dog initialized with breed: Golden Retriever\n"
     ]
    }
   ],
   "source": [
    "# Define the base class Animal\n",
    "class Animal:\n",
    "    def __init__(self, name):\n",
    "        self.name = name\n",
    "        print(f\"Animal initialized with name: {self.name}\")\n",
    "\n",
    "# Define the derived class Dog\n",
    "class Dog(Animal):\n",
    "    def __init__(self, name, breed):\n",
    "        super().__init__(name)  # Call the __init__ method of the Animal class\n",
    "        self.breed = breed\n",
    "        print(f\"Dog initialized with breed: {self.breed}\")\n",
    "\n",
    "# Create an instance of Dog\n",
    "my_dog = Dog(\"Buddy\", \"Golden Retriever\")\n"
   ]
  },
  {
   "cell_type": "code",
   "execution_count": null,
   "id": "d5682e33-2d2e-4764-a671-47a39d3df19a",
   "metadata": {},
   "outputs": [],
   "source": []
  },
  {
   "cell_type": "markdown",
   "id": "111e1afa-6b2a-423b-b431-f568d01683c4",
   "metadata": {},
   "source": [
    "### 13. Create a class called `Book` with a constructor that initializes the `title`, `author`, and `published_year` attributes. Provide a method to display book details."
   ]
  },
  {
   "cell_type": "code",
   "execution_count": 14,
   "id": "3bb6621c-a260-499c-988d-94f727069e9d",
   "metadata": {},
   "outputs": [],
   "source": [
    "class Book:\n",
    "    def __init__(self, title, author, year):\n",
    "        self.title = title\n",
    "        self.author = author\n",
    "        self.year = year\n",
    "        \n",
    "    def display_book(self):\n",
    "        return (self.title, self.author , self.year)"
   ]
  },
  {
   "cell_type": "code",
   "execution_count": 15,
   "id": "039db71e-0085-4a16-882c-c67fa08a1680",
   "metadata": {},
   "outputs": [
    {
     "data": {
      "text/plain": [
       "('Book', 'Abhishek', 2008)"
      ]
     },
     "execution_count": 15,
     "metadata": {},
     "output_type": "execute_result"
    }
   ],
   "source": [
    "book1 = Book(\"Book\", \"Abhishek\", 2008)\n",
    "book1.display_book()"
   ]
  },
  {
   "cell_type": "code",
   "execution_count": null,
   "id": "48beaee9-dd50-4dd3-9dd7-c5dabf5060a0",
   "metadata": {},
   "outputs": [],
   "source": []
  },
  {
   "cell_type": "markdown",
   "id": "f4466387-35f1-4101-a394-57b12b842f7e",
   "metadata": {},
   "source": [
    "### 15) Explain the role of the `self` parameter in instance variable initialization within a constructor."
   ]
  },
  {
   "cell_type": "markdown",
   "id": "f2ba1ae0-1f02-48c1-acd7-cd715df977ce",
   "metadata": {},
   "source": [
    "\n",
    "#### In Python, the self parameter plays a crucial role in instance variable initialization within a constructor. Understanding how self works will help you grasp object-oriented programming concepts and how instances of classes are managed."
   ]
  },
  {
   "cell_type": "code",
   "execution_count": null,
   "id": "469c46fc-f91d-4a1f-89c8-ed152ef08ee5",
   "metadata": {},
   "outputs": [],
   "source": []
  },
  {
   "cell_type": "markdown",
   "id": "bc3328cb-5983-4691-ba38-e10fffaf017d",
   "metadata": {},
   "source": [
    "### Create a Python class called `Student` with a constructor that takes a list of subjects as a parameter and initializes the `subjects` attribute."
   ]
  },
  {
   "cell_type": "code",
   "execution_count": 22,
   "id": "9152086b-5837-4814-8f47-c42e7ccbf75e",
   "metadata": {},
   "outputs": [
    {
     "name": "stdout",
     "output_type": "stream",
     "text": [
      "Subjects: Math, Science, English\n",
      "Added subject: History\n",
      "Subjects: Math, Science, English, History\n"
     ]
    }
   ],
   "source": [
    "class Student:\n",
    "    def __init__(self, subject):\n",
    "        self.subject = subject\n",
    "        \n",
    "    def display_sub(self):\n",
    "        print(\"Subjects:\", ', '.join(self.subject))\n",
    "        \n",
    "        \n",
    "    def add_subject(self, subject):\n",
    "        # Method to add a new subject to the subjects list\n",
    "        if subject not in self.subject:\n",
    "            self.subject.append(subject)\n",
    "            print(f\"Added subject: {subject}\")\n",
    "        else:\n",
    "            print(f\"Subject '{subject}' is already in the list.\")\n",
    "    \n",
    "    \n",
    "student1 = Student(['Math', 'Science', 'English'])\n",
    "student1.display_sub() \n",
    "student1.add_subject('History')  \n",
    "student1.display_sub()"
   ]
  },
  {
   "cell_type": "code",
   "execution_count": null,
   "id": "b5ac308a-75e0-4fd7-ba6f-68d7cad3221d",
   "metadata": {},
   "outputs": [],
   "source": []
  },
  {
   "cell_type": "markdown",
   "id": "92f1b95d-9cd2-4b69-a845-32d7966c4eb1",
   "metadata": {},
   "source": [
    "### What is the purpose of the `__del__` method in Python classes, and how does it relate to constructors?"
   ]
  },
  {
   "cell_type": "markdown",
   "id": "65480c19-1eff-41d9-a570-77dd1f256dcb",
   "metadata": {},
   "source": [
    "#### the __del__ method is a special method used to define the destructor of a class. It is called when an object is about to be destroyed, which provides an opportunity to clean up resources or perform specific actions just before the object is removed from memory. The __del__ method is complementary to the __init__ constructor method, which initializes the object."
   ]
  },
  {
   "cell_type": "code",
   "execution_count": null,
   "id": "152e3554-ddeb-44b8-ad4e-6ac7d1f27f01",
   "metadata": {},
   "outputs": [],
   "source": []
  },
  {
   "cell_type": "markdown",
   "id": "0d437967-af8f-4d2b-a255-4e24f71776d4",
   "metadata": {},
   "source": [
    "### Explain the use of constructor chaining in Python. Provide a practical example."
   ]
  },
  {
   "cell_type": "markdown",
   "id": "9016bf72-1d59-4361-a6d2-afb5ba7b20e5",
   "metadata": {},
   "source": [
    "#### Constructor chaining is a technique used in object-oriented programming where one constructor calls another constructor in the same or a different class. This is useful for reusing initialization code and managing complex object creation processes in a more organized way."
   ]
  },
  {
   "cell_type": "code",
   "execution_count": 1,
   "id": "78470ce5-f887-42ce-b08e-2ab6991b2e57",
   "metadata": {},
   "outputs": [
    {
     "name": "stdout",
     "output_type": "stream",
     "text": [
      "Animal created: Buddy\n",
      "Mammal created: Buddy, Has fur: True\n",
      "Dog created: Buddy, Has fur: True, Breed: Golden Retriever\n"
     ]
    }
   ],
   "source": [
    "class Animal:\n",
    "    def __init__(self, name):\n",
    "        self.name = name\n",
    "        print(f\"Animal created: {self.name}\")\n",
    "\n",
    "class Mammal(Animal):\n",
    "    def __init__(self, name, has_fur):\n",
    "        super().__init__(name)  # Call Animal's __init__ method\n",
    "        self.has_fur = has_fur\n",
    "        print(f\"Mammal created: {self.name}, Has fur: {self.has_fur}\")\n",
    "\n",
    "class Dog(Mammal):\n",
    "    def __init__(self, name, has_fur, breed):\n",
    "        super().__init__(name, has_fur)  # Call Mammal's __init__ method\n",
    "        self.breed = breed\n",
    "        print(f\"Dog created: {self.name}, Has fur: {self.has_fur}, Breed: {self.breed}\")\n",
    "\n",
    "dog1 = Dog(\"Buddy\", True, \"Golden Retriever\")\n"
   ]
  },
  {
   "cell_type": "code",
   "execution_count": null,
   "id": "87e5dd85-dd06-4fd3-9997-0efe3b424a0c",
   "metadata": {},
   "outputs": [],
   "source": []
  },
  {
   "cell_type": "markdown",
   "id": "844e8d4b-e863-46df-b7f4-33688ca5bba6",
   "metadata": {},
   "source": [
    "### Create a Python class called `Car` with a default constructor that initializes the `make` and `model` attributes. Provide a method to display car information."
   ]
  },
  {
   "cell_type": "code",
   "execution_count": 1,
   "id": "be378e86-000c-4d99-b291-93dfd0b996ad",
   "metadata": {},
   "outputs": [
    {
     "name": "stdout",
     "output_type": "stream",
     "text": [
      "Honda\n",
      "Civic\n"
     ]
    }
   ],
   "source": [
    "class Car:\n",
    "    def __init__(self, make, model):\n",
    "        self.make = make\n",
    "        self.model = model\n",
    "        \n",
    "    def display(self):\n",
    "        print(f\"{self.make}\")\n",
    "        print(f\"{self.model}\")\n",
    "        \n",
    "car1 = Car(\"Honda\",\"Civic\")\n",
    "\n",
    "car1.display()"
   ]
  },
  {
   "cell_type": "code",
   "execution_count": null,
   "id": "b5ef3304-1cd7-4826-877f-dcddf65192ae",
   "metadata": {},
   "outputs": [],
   "source": []
  },
  {
   "cell_type": "markdown",
   "id": "0fd0a82d-bbb0-49e9-95b8-d815a4e2cc3a",
   "metadata": {},
   "source": [
    "## Inheritance:"
   ]
  },
  {
   "cell_type": "markdown",
   "id": "3bdf5144-6121-4507-afb0-2ee6094ee1dd",
   "metadata": {},
   "source": [
    "### What is inheritance in Python? Explain its significance in object-oriented programming."
   ]
  },
  {
   "cell_type": "markdown",
   "id": "4feb636c-04b9-44a2-a3be-bd90e6279a82",
   "metadata": {},
   "source": [
    "#### Inheritance is a fundamental concept in object-oriented programming (OOP) that allows a new class (called a subclass or derived class) to inherit attributes and methods from an existing class (called a superclass or base class). This concept helps organize and manage code, promoting reusability and reducing redundancy."
   ]
  },
  {
   "cell_type": "raw",
   "id": "5abb84d7-3add-426d-94d0-7d665b8ade5a",
   "metadata": {},
   "source": [
    "### Significance of Inheritance in Object-Oriented Programming\n",
    "Inheritance plays a crucial role in OOP for several reasons:\n",
    "\n",
    "Code Reusability:\n",
    "\n",
    "Inheritance allows you to reuse code from existing classes. Instead of writing the same code multiple times, you can create a new class that inherits from a base class and extends or modifies its functionality.\n",
    "Hierarchical Organization:\n",
    "\n",
    "It supports the creation of a hierarchical structure of classes, where subclasses inherit properties and methods from their superclasses. This structure mirrors real-world relationships and helps model complex systems.\n",
    "Extensibility:\n",
    "\n",
    "It allows you to extend or customize the behavior of existing classes. You can create new classes that add new features or change existing ones without altering the original class."
   ]
  },
  {
   "cell_type": "code",
   "execution_count": 2,
   "id": "3717f095-731c-4159-8c68-a88ee608e1c0",
   "metadata": {},
   "outputs": [
    {
     "name": "stdout",
     "output_type": "stream",
     "text": [
      "Animal speaks\n",
      "Dog barks\n"
     ]
    }
   ],
   "source": [
    "class Animal:\n",
    "    def speak(self):\n",
    "        print(\"Animal speaks\")\n",
    "\n",
    "class Dog(Animal):\n",
    "    def bark(self):\n",
    "        print(\"Dog barks\")\n",
    "\n",
    "dog = Dog()\n",
    "dog.speak()  # Inherited method\n",
    "dog.bark()   # Subclass method\n"
   ]
  },
  {
   "cell_type": "code",
   "execution_count": null,
   "id": "47d2210d-b8b9-4519-92ef-3e461746a4cf",
   "metadata": {},
   "outputs": [],
   "source": []
  },
  {
   "cell_type": "markdown",
   "id": "b9390634-678f-4bb3-b56a-f56c8d522bdc",
   "metadata": {},
   "source": [
    "### Que 2) Differentiate between single inheritance and multiple inheritance in Python. Provide examples for each."
   ]
  },
  {
   "cell_type": "raw",
   "id": "29be19a7-c823-4f52-b4f0-901b7309b43c",
   "metadata": {},
   "source": [
    "1. Single Inheritance\n",
    "Definition\n",
    "Single inheritance occurs when a class (the derived class or subclass) inherits from only one other class (the base class or superclass).\n",
    "\n",
    "Characteristics\n",
    "One Superclass: A subclass inherits from a single parent class.\n",
    "Simplicity: Easier to understand and manage.\n",
    "Hierarchical Relationships: Creates a simple parent-child relationship."
   ]
  },
  {
   "cell_type": "code",
   "execution_count": 4,
   "id": "be61b60d-3945-4f40-85f5-e963042e0d9d",
   "metadata": {},
   "outputs": [
    {
     "name": "stdout",
     "output_type": "stream",
     "text": [
      "Buddy makes a sound\n",
      "Buddy barks\n"
     ]
    }
   ],
   "source": [
    "# Base class\n",
    "class Animal:\n",
    "    def __init__(self, name):\n",
    "        self.name = name\n",
    "\n",
    "    def speak(self):\n",
    "        print(f\"{self.name} makes a sound\")\n",
    "\n",
    "# Derived class\n",
    "class Dog(Animal):\n",
    "    def bark(self):\n",
    "        print(f\"{self.name} barks\")\n",
    "\n",
    "# Example usage\n",
    "dog = Dog(\"Buddy\")\n",
    "dog.speak()  # Inherited from Animal\n",
    "dog.bark()   # Method in Dog\n"
   ]
  },
  {
   "cell_type": "markdown",
   "id": "d2eb1bc2-26e2-4b5a-b83a-7fabebf9354c",
   "metadata": {},
   "source": [
    "2. Multiple Inheritance\n",
    "\n",
    "Definition\n",
    "Multiple inheritance occurs when a class (the derived class or subclass) inherits from more than one class (base classes or superclasses).\n",
    "\n",
    "Characteristics\n",
    "Multiple Superclasses: A subclass inherits from multiple parent classes.\n",
    "Complexity: Can become complex and harder to manage due to the possibility of conflicting methods and attributes.\n",
    "Combined Features: Combines features from multiple base classes"
   ]
  },
  {
   "cell_type": "code",
   "execution_count": 5,
   "id": "dd5b928a-7604-4432-b022-b44396d391f7",
   "metadata": {},
   "outputs": [
    {
     "name": "stdout",
     "output_type": "stream",
     "text": [
      "Engine starts\n",
      "Wheels roll\n",
      "Car is driving\n"
     ]
    }
   ],
   "source": [
    "# Base class 1\n",
    "class Engine:\n",
    "    def start(self):\n",
    "        print(\"Engine starts\")\n",
    "\n",
    "# Base class 2\n",
    "class Wheels:\n",
    "    def roll(self):\n",
    "        print(\"Wheels roll\")\n",
    "\n",
    "# Derived class\n",
    "class Car(Engine, Wheels):\n",
    "    def drive(self):\n",
    "        print(\"Car is driving\")\n",
    "\n",
    "# Example usage\n",
    "my_car = Car()\n",
    "my_car.start()  # Inherited from Engine\n",
    "my_car.roll()   # Inherited from Wheels\n",
    "my_car.drive()  # Method in Car\n"
   ]
  },
  {
   "cell_type": "code",
   "execution_count": null,
   "id": "c77c55a9-a45f-46f8-a623-5dc4d6a99373",
   "metadata": {},
   "outputs": [],
   "source": []
  },
  {
   "cell_type": "markdown",
   "id": "f5ce1c6f-dc4d-464f-a3e1-66c92c311eaa",
   "metadata": {},
   "source": [
    "### Create a Python class called `Vehicle` with attributes `color` and `speed`. Then, create a child class called `Car` that inherits from `Vehicle` and adds a `brand` attribute. Provide an example of creating a `Car` object."
   ]
  },
  {
   "cell_type": "code",
   "execution_count": 16,
   "id": "db35ab85-39d2-4574-8660-c66456cb7f85",
   "metadata": {},
   "outputs": [
    {
     "name": "stdout",
     "output_type": "stream",
     "text": [
      "Red 150\n",
      "Honda\n"
     ]
    }
   ],
   "source": [
    "class Vehicle:\n",
    "    def __init__(self, color, speed):\n",
    "        self.color = color\n",
    "        self.speed = speed\n",
    "        \n",
    "    def display(self):\n",
    "        print(self.color, self.speed)\n",
    "        \n",
    "class Car(Vehicle):\n",
    "    def __init__(self, color, speed, brand):\n",
    "        super().__init__(color, speed)\n",
    "        self.brand = brand\n",
    "        \n",
    "    def display_info(self):\n",
    "        super().display()\n",
    "        print(self.brand)\n",
    "        \n",
    "car1 = Car(\"Red\",150, \"Honda\")\n",
    "car1.display_info()"
   ]
  },
  {
   "cell_type": "code",
   "execution_count": null,
   "id": "2b6bfbbb-483a-4a21-ae5f-767054ad16f0",
   "metadata": {},
   "outputs": [],
   "source": []
  },
  {
   "cell_type": "markdown",
   "id": "fb96a245-3683-484c-a422-7ffda4ab23b7",
   "metadata": {},
   "source": [
    "### Explain the concept of method overriding in inheritance. Provide a practical example."
   ]
  },
  {
   "cell_type": "raw",
   "id": "5d6f85da-288c-4e70-adbb-13b30acf4451",
   "metadata": {},
   "source": [
    "Method overriding is a core concept in object-oriented programming that allows a subclass to provide a specific implementation of a method that is already defined in its superclass. This concept is essential for creating polymorphic behavior in your code."
   ]
  },
  {
   "cell_type": "raw",
   "id": "8de5fe8d-6133-4ded-b242-67e649be6dda",
   "metadata": {},
   "source": [
    "Concept of Method Overriding\n",
    "When a subclass inherits from a superclass, it can use the methods defined in the superclass. However, sometimes you need to change the behavior of these inherited methods for the subclass. This is where method overriding comes in."
   ]
  },
  {
   "cell_type": "code",
   "execution_count": null,
   "id": "b4410531-b8d0-40d5-abd9-9e56833d50df",
   "metadata": {},
   "outputs": [],
   "source": []
  },
  {
   "cell_type": "markdown",
   "id": "5b85a9a7-b037-43d2-90bd-bcfdb33e530d",
   "metadata": {},
   "source": [
    "### How can you access the methods and attributes of a parent class from a child class in Python? Give an example."
   ]
  },
  {
   "cell_type": "code",
   "execution_count": 31,
   "id": "1a85dbe7-4568-4f76-bfd0-f704806c33f8",
   "metadata": {},
   "outputs": [],
   "source": [
    "class Vehicle:\n",
    "    def __init__(self, color, brand):\n",
    "        self.color = color\n",
    "        self.brand = brand\n",
    "        \n",
    "    def display_info(self):\n",
    "        return(self.color , self.brand)\n",
    "    \n",
    "class Car(Vehicle):\n",
    "    \n",
    "    def __init__(self, color, brand, speed):\n",
    "        super().__init__(color, brand)\n",
    "        self.speed = speed\n",
    "        \n",
    "    def display_car(self):\n",
    "        print(self.brand, self.color, self.speed)"
   ]
  },
  {
   "cell_type": "code",
   "execution_count": 35,
   "id": "f4bc55c3-9d8d-4b67-9c78-023c3fcc5b0e",
   "metadata": {},
   "outputs": [
    {
     "name": "stdout",
     "output_type": "stream",
     "text": [
      "Honda Green 120\n"
     ]
    }
   ],
   "source": [
    "car1 = Car(\"Green\", \"Honda\", 120)\n",
    "car1.display_car()"
   ]
  },
  {
   "cell_type": "code",
   "execution_count": null,
   "id": "cc5f1975-3d72-4e7b-b93d-e171af5811d5",
   "metadata": {},
   "outputs": [],
   "source": []
  },
  {
   "cell_type": "markdown",
   "id": "cd2e8a25-a8ea-4686-9dc6-8770ba8861bb",
   "metadata": {},
   "source": [
    "### Que 6) Discuss the use of the `super()` function in Python inheritance. When and why is it used? Provide an example."
   ]
  },
  {
   "cell_type": "raw",
   "id": "7c90a6ab-d9db-4a7b-a682-fc11711f40e3",
   "metadata": {},
   "source": [
    "The super() function is a built-in function in Python that is used to call methods from a parent (or superclass) in a way that respects the method resolution order (MRO). It is a powerful feature of object-oriented programming in Python that enables you to extend or modify the behavior of inherited methods."
   ]
  },
  {
   "cell_type": "code",
   "execution_count": 39,
   "id": "b0d2f72d-6f6c-4048-af50-8e640d4ce330",
   "metadata": {},
   "outputs": [
    {
     "name": "stdout",
     "output_type": "stream",
     "text": [
      "Sound\n",
      "Bark\n"
     ]
    }
   ],
   "source": [
    "class Animal:\n",
    "    def __init__(self, name):\n",
    "        self.name = name\n",
    "        \n",
    "    def speak(self):\n",
    "        print(\"Sound\")\n",
    "        \n",
    "class Dog(Animal):\n",
    "    def __init__(self, name, breed):\n",
    "        super().__init__(name)\n",
    "        self.breed = breed\n",
    "        \n",
    "    def speak(self):\n",
    "        super().speak()\n",
    "        print(\"Bark\")\n",
    "        \n",
    "my_dog = Dog(\"Rex\" , \"Golden Retirvir\")\n",
    "my_dog.speak()"
   ]
  },
  {
   "cell_type": "code",
   "execution_count": null,
   "id": "6605b228-671a-4f14-a5fd-34e9542293c1",
   "metadata": {},
   "outputs": [],
   "source": []
  },
  {
   "cell_type": "markdown",
   "id": "b5228652-cd21-4679-b730-2ff7778a1487",
   "metadata": {},
   "source": [
    "### Que 7) Create a Python class called `Animal` with a method `speak()`. Then, create child classes `Dog` and `Cat`"
   ]
  },
  {
   "cell_type": "code",
   "execution_count": 40,
   "id": "5a2e7b17-e937-4e24-ace2-8448cd823251",
   "metadata": {},
   "outputs": [
    {
     "name": "stdout",
     "output_type": "stream",
     "text": [
      "Siberian Husky\n",
      "Persan Cat\n"
     ]
    }
   ],
   "source": [
    "class Animal:\n",
    "    def __init__(self, name):\n",
    "        self.name = name\n",
    "        \n",
    "    def speak(self):\n",
    "        print(f\"{self.name}makes a sound\")\n",
    "        \n",
    "    \n",
    "class Dog(Animal):\n",
    "    def __init__(self, name, breed):\n",
    "        super().__init__(name)\n",
    "        self.breed = breed\n",
    "        \n",
    "    def speak(self):\n",
    "        print(self.name , self.breed)\n",
    "        \n",
    "class Cat(Animal):\n",
    "    def __init__(self, name, breed):\n",
    "        super().__init__(name)\n",
    "        self.breed = breed\n",
    "        \n",
    "    def speak(self):\n",
    "        print(self.name, self.breed)\n",
    "        \n",
    "dog = Dog(\"Siberian\", \"Husky\")\n",
    "cat = Cat(\"Persan\" , \"Cat\")\n",
    "\n",
    "dog.speak()\n",
    "cat.speak()"
   ]
  },
  {
   "cell_type": "code",
   "execution_count": null,
   "id": "3a36c6e4-7f42-4064-9c1b-f43ddbe8f81a",
   "metadata": {},
   "outputs": [],
   "source": []
  },
  {
   "cell_type": "markdown",
   "id": "eaa74131-9b12-4228-8e70-020132ce619e",
   "metadata": {},
   "source": [
    "### 8. Explain the role of the `isinstance()` function in Python and how it relates to inheritance."
   ]
  },
  {
   "cell_type": "raw",
   "id": "d859ccc9-3954-43d3-bfb5-7711cb98bda4",
   "metadata": {},
   "source": [
    "The isinstance() function in Python is a built-in utility used to check if an object is an instance of a specific class or a tuple of classes. It plays a crucial role in type checking, especially in the context of inheritance and polymorphism."
   ]
  },
  {
   "cell_type": "code",
   "execution_count": 42,
   "id": "ea06429f-be2f-4ffe-b011-c32951f293b4",
   "metadata": {},
   "outputs": [
    {
     "name": "stdout",
     "output_type": "stream",
     "text": [
      "True\n"
     ]
    }
   ],
   "source": [
    "class Animal:\n",
    "    def __init__(self, name, age):\n",
    "        self.name = name\n",
    "        self.age = age\n",
    "    def display(self):\n",
    "        print(f\"{self.name}, {self.age}\")\n",
    "        \n",
    "a1 = Animal(\"Dog\", 8)\n",
    "\n",
    "print(isinstance(a1,Animal))"
   ]
  },
  {
   "cell_type": "code",
   "execution_count": null,
   "id": "d36b2f8d-4f4f-44da-a64e-b77039b5c976",
   "metadata": {},
   "outputs": [],
   "source": []
  },
  {
   "cell_type": "markdown",
   "id": "4f3d69e0-7536-4ee0-8d44-4e23ee3a9231",
   "metadata": {},
   "source": [
    "### 9. What is the purpose of the `issubclass()` function in Python? Provide an example."
   ]
  },
  {
   "cell_type": "markdown",
   "id": "e5813070-fc5e-4907-893b-276697d8966c",
   "metadata": {},
   "source": [
    "The issubclass() function in Python is a built-in function used to determine whether a class is a subclass of another class or one of several classes. This function is an essential tool in object-oriented programming for checking class hierarchies and managing type relationships."
   ]
  },
  {
   "cell_type": "code",
   "execution_count": 48,
   "id": "bbab46b2-5ad2-4090-a7e5-91df062af141",
   "metadata": {},
   "outputs": [
    {
     "name": "stdout",
     "output_type": "stream",
     "text": [
      "4 5\n",
      "This is Square\n",
      "True\n"
     ]
    }
   ],
   "source": [
    "class Shape:\n",
    "    def __init__(self, side1, side2):\n",
    "        self.side1 = side1\n",
    "        self.side2 = side2\n",
    "        \n",
    "    def display(self):\n",
    "        print(self.side1 , self.side2)\n",
    "        \n",
    "class Square(Shape):\n",
    "    def __init__(self, side):\n",
    "        super().__init__(side, side)\n",
    "        \n",
    "    def check_sq(self):\n",
    "        if self.side1 == self.side2:\n",
    "            print(\"This is Square\")\n",
    "        else:\n",
    "            print(\"This is not Square\")\n",
    "    \n",
    "shape = Shape(4,5)\n",
    "shape.display()\n",
    "\n",
    "square = Square(4)\n",
    "square.check_sq()\n",
    "\n",
    "print(issubclass(Square, Shape))"
   ]
  },
  {
   "cell_type": "code",
   "execution_count": null,
   "id": "3e3c30ff-be1d-4d44-902a-8eef8eac0b8b",
   "metadata": {},
   "outputs": [],
   "source": []
  },
  {
   "cell_type": "markdown",
   "id": "abbdbff6-9da8-4502-9c2b-894c83d47565",
   "metadata": {},
   "source": [
    "#### 10) Discuss the concept of constructor inheritance in Python. How are constructors inherited in child classes?"
   ]
  },
  {
   "cell_type": "raw",
   "id": "3f895cf7-aece-440b-82b9-eb1d665106f9",
   "metadata": {},
   "source": [
    "In Python, constructor inheritance refers to how the __init__ method (the constructor) of a parent class is utilized by a child class. Understanding constructor inheritance is key to effectively using inheritance in object-oriented programming."
   ]
  },
  {
   "cell_type": "code",
   "execution_count": 1,
   "id": "34eb9a59-63d3-4e6f-8ff0-c236c72eaf48",
   "metadata": {},
   "outputs": [
    {
     "name": "stdout",
     "output_type": "stream",
     "text": [
      "Animal constructor called. Species: Canine\n",
      "Dog constructor called. Breed: Golden Retriever\n"
     ]
    }
   ],
   "source": [
    "class Animal:\n",
    "    def __init__(self, species):\n",
    "        self.species = species\n",
    "        print(f\"Animal constructor called. Species: {self.species}\")\n",
    "\n",
    "class Dog(Animal):\n",
    "    def __init__(self, species, breed):\n",
    "        # Call the parent class's constructor to initialize the species attribute\n",
    "        super().__init__(species)\n",
    "        self.breed = breed\n",
    "        print(f\"Dog constructor called. Breed: {self.breed}\")\n",
    "\n",
    "# Creating an instance of the Dog class\n",
    "dog = Dog(\"Canine\", \"Golden Retriever\")\n"
   ]
  },
  {
   "cell_type": "code",
   "execution_count": null,
   "id": "bd9bb404-18b3-429c-bc63-ce6ae93e9741",
   "metadata": {},
   "outputs": [],
   "source": []
  },
  {
   "cell_type": "markdown",
   "id": "83d04c12-e566-4bd1-988d-ab2286922979",
   "metadata": {},
   "source": [
    "#### 11) Create a Python class called `Shape` with a method `area()` that calculates the area of a shape. Then, create child classes `Circle` and `Rectangle` that inherit from `Shape` and implement the `area()` method accordingly. Provide an example."
   ]
  },
  {
   "cell_type": "code",
   "execution_count": 4,
   "id": "613a8e7e-3d08-4aee-8692-ff66241c0369",
   "metadata": {},
   "outputs": [
    {
     "name": "stdout",
     "output_type": "stream",
     "text": [
      "78.53981633974483\n",
      "20\n"
     ]
    }
   ],
   "source": [
    "import math\n",
    "class Shape:\n",
    "    def __init__(self, area):\n",
    "        self.area = area\n",
    "        pass\n",
    "    \n",
    "class Circle(Shape):\n",
    "    def __init__(self, radius):\n",
    "        self.radius = radius\n",
    "        \n",
    "    def area(self):\n",
    "        return math.pi * (self.radius ** 2)\n",
    "    \n",
    "class Rectangle(Shape):\n",
    "    def __init__(self, Width, Height):\n",
    "        self.Width = Width\n",
    "        self.Height = Height\n",
    "        \n",
    "    def area(self):\n",
    "        return self.Width * self.Height\n",
    "    \n",
    "circle = Circle(5)\n",
    "print(circle.area())\n",
    "\n",
    "rectangle = Rectangle(4,5)\n",
    "print(rectangle.area())"
   ]
  },
  {
   "cell_type": "code",
   "execution_count": null,
   "id": "70cf93cb-86af-4a71-a371-18f3df76c364",
   "metadata": {},
   "outputs": [],
   "source": []
  },
  {
   "cell_type": "markdown",
   "id": "fe59b281-47f3-41dc-9e51-52f0a6d839ab",
   "metadata": {},
   "source": [
    "#### 12) Explain the use of abstract base classes (ABCs) in Python and how they relate to inheritance. Provide an example using the `abc` module."
   ]
  },
  {
   "cell_type": "raw",
   "id": "f13d6763-75fe-472b-8006-ffb10287c731",
   "metadata": {},
   "source": [
    "Answer :- Abstract base classes (ABCs) in Python provide a way to define interfaces when writing object-oriented programs. An ABC can specify a set of methods and properties that must be created within any child classes built from the abstract base. This helps ensure a certain level of uniformity and adherence to a contract in the design of classes."
   ]
  },
  {
   "cell_type": "code",
   "execution_count": 1,
   "id": "05fa6fe4-a2ed-4dc2-b547-fdc873d0aa17",
   "metadata": {},
   "outputs": [
    {
     "name": "stdout",
     "output_type": "stream",
     "text": [
      "Rectangle area: 12\n",
      "Rectangle perimeter: 14\n",
      "Circle area: 78.53975\n",
      "Circle perimeter: 31.4159\n"
     ]
    }
   ],
   "source": [
    "from abc import ABC, abstractmethod\n",
    "\n",
    "# Step 2: Define the Abstract Base Class\n",
    "class Shape(ABC):\n",
    "    @abstractmethod\n",
    "    def area(self):\n",
    "        pass\n",
    "\n",
    "    @abstractmethod\n",
    "    def perimeter(self):\n",
    "        pass\n",
    "\n",
    "# Step 3: Implement Subclasses\n",
    "class Rectangle(Shape):\n",
    "    def __init__(self, width, height):\n",
    "        self.width = width\n",
    "        self.height = height\n",
    "\n",
    "    def area(self):\n",
    "        return self.width * self.height\n",
    "\n",
    "    def perimeter(self):\n",
    "        return 2 * (self.width + self.height)\n",
    "\n",
    "class Circle(Shape):\n",
    "    def __init__(self, radius):\n",
    "        self.radius = radius\n",
    "\n",
    "    def area(self):\n",
    "        return 3.14159 * (self.radius ** 2)\n",
    "\n",
    "    def perimeter(self):\n",
    "        return 2 * 3.14159 * self.radius\n",
    "\n",
    "# Step 4: Instantiate the Subclasses\n",
    "rectangle = Rectangle(3, 4)\n",
    "print(f\"Rectangle area: {rectangle.area()}\")\n",
    "print(f\"Rectangle perimeter: {rectangle.perimeter()}\")\n",
    "\n",
    "circle = Circle(5)\n",
    "print(f\"Circle area: {circle.area()}\")\n",
    "print(f\"Circle perimeter: {circle.perimeter()}\")\n"
   ]
  },
  {
   "cell_type": "code",
   "execution_count": null,
   "id": "32e79e9b-7e52-4849-806d-6ce7e297827e",
   "metadata": {},
   "outputs": [],
   "source": []
  },
  {
   "cell_type": "markdown",
   "id": "05707e24-fd0e-464c-b96d-e811ebaf8b54",
   "metadata": {},
   "source": [
    "### How can you prevent a child class from modifying certain attributes or methods inherited from a parent class in Python?"
   ]
  },
  {
   "cell_type": "raw",
   "id": "ff8c46da-4d1e-4df6-a54e-e388b2403aae",
   "metadata": {},
   "source": [
    "Answer :- To prevent a child class from modifying certain attributes or methods inherited from a parent class in Python, you can use private class"
   ]
  },
  {
   "cell_type": "code",
   "execution_count": 12,
   "id": "35c04fc5-786c-4204-a305-1895b236d133",
   "metadata": {},
   "outputs": [
    {
     "name": "stdout",
     "output_type": "stream",
     "text": [
      "This var is private\n",
      "['_Parent__name', '__module__', '__init__', '__dict__', '__weakref__', '__doc__', '__new__', '__repr__', '__hash__', '__str__', '__getattribute__', '__setattr__', '__delattr__', '__lt__', '__le__', '__eq__', '__ne__', '__gt__', '__ge__', '__reduce_ex__', '__reduce__', '__subclasshook__', '__init_subclass__', '__format__', '__sizeof__', '__dir__', '__class__']\n"
     ]
    }
   ],
   "source": [
    "class Parent:\n",
    "    def __init__(self):\n",
    "        self.__name = \"This var is private\"\n",
    "        \n",
    "a = Parent()\n",
    "print(a._Parent__name)\n",
    "\n",
    "print(a.__dir__())"
   ]
  },
  {
   "cell_type": "code",
   "execution_count": null,
   "id": "6139d0e3-bc26-4cb2-85fb-7d5301a44cf0",
   "metadata": {},
   "outputs": [],
   "source": []
  },
  {
   "cell_type": "markdown",
   "id": "1e62679f-64b9-4586-8123-b7264f0ad211",
   "metadata": {},
   "source": [
    "### Create a Python class called `Employee` with attributes `name` and `salary`. Then, create a child class`Manager` that inherits from `Employee` and adds an attribute `department`. Provide an example."
   ]
  },
  {
   "cell_type": "code",
   "execution_count": 18,
   "id": "50a2922b-8fed-40b6-b092-a8af1876b58d",
   "metadata": {},
   "outputs": [
    {
     "name": "stdout",
     "output_type": "stream",
     "text": [
      "Abhi 20000\n",
      "Abhi 2000 Electrical\n"
     ]
    }
   ],
   "source": [
    "class Employee:\n",
    "    def __init__(self, name, salary):\n",
    "        self.name = name\n",
    "        self.salary = salary\n",
    "    \n",
    "    def display_info(self):\n",
    "        print(self.name, self.salary)\n",
    "        \n",
    "class Manager(Employee):\n",
    "    def __init__(self, name, salary, dept):\n",
    "        super().__init__(name, salary)\n",
    "        self.dept = dept\n",
    "        \n",
    "    def display_Mag(self):\n",
    "        print(self.name, self.salary, self.dept)\n",
    "        \n",
    "a = Employee(\"Abhi\", 20000)\n",
    "a.display_info()\n",
    "\n",
    "b = Manager(\"Abhi\", 2000, \"Electrical\")\n",
    "b.display_Mag()"
   ]
  },
  {
   "cell_type": "code",
   "execution_count": null,
   "id": "d91a4661-18ef-47fe-a4bb-c98255a0010f",
   "metadata": {},
   "outputs": [],
   "source": []
  },
  {
   "cell_type": "markdown",
   "id": "a2e45d52-bd46-45b2-8d41-0abfec50a71f",
   "metadata": {},
   "source": [
    "### Discuss the concept of method overloading in Python inheritance. How does it differ from method overriding?"
   ]
  },
  {
   "cell_type": "raw",
   "id": "3463aa0c-60e8-4381-9114-8c55f47fc50d",
   "metadata": {},
   "source": [
    "Method overloading is the ability to define multiple methods with the same name but different signature.\n",
    "\n",
    "Method overriding occurs when a subclass provides a specific implementation for a method that is already defined in its superclass."
   ]
  },
  {
   "cell_type": "code",
   "execution_count": 2,
   "id": "cfd7009c-6cbf-4825-8094-6c59b4c000fe",
   "metadata": {},
   "outputs": [
    {
     "name": "stdout",
     "output_type": "stream",
     "text": [
      "32\n"
     ]
    }
   ],
   "source": [
    "class Parent:\n",
    "    def add(self, *args):\n",
    "        total = 0\n",
    "        for i in args:\n",
    "            total = total + i\n",
    "        return total\n",
    "    \n",
    "a = Parent()\n",
    "print(a.add(4,5,6,8,9))"
   ]
  },
  {
   "cell_type": "code",
   "execution_count": 5,
   "id": "727321c0-2f9d-4d47-bf7a-8f04a573473a",
   "metadata": {},
   "outputs": [
    {
     "name": "stdout",
     "output_type": "stream",
     "text": [
      "sleeps from 2:00 AM to 10:00 AM\n",
      "sleeps from 10:00 PM to 5:00 AM\n"
     ]
    }
   ],
   "source": [
    "class Father:\n",
    "    def sleep(self):\n",
    "        print(\"sleeps from 10:00 PM to 5:00 AM\")\n",
    "    def eat(self):\n",
    "        print(\"eating\")\n",
    "        \n",
    "\n",
    "class Son(Father):\n",
    "    def sleep(self):\n",
    "        print(\"sleeps from 2:00 AM to 10:00 AM\")\n",
    "        super().sleep()\n",
    "\n",
    "Ram = Son()\n",
    "Ram.sleep()"
   ]
  },
  {
   "cell_type": "code",
   "execution_count": null,
   "id": "28e953a4-8c09-4832-85da-2bdeec71dd60",
   "metadata": {},
   "outputs": [],
   "source": []
  },
  {
   "cell_type": "markdown",
   "id": "a2baaa1b-cf17-4a37-b413-1a328936c112",
   "metadata": {},
   "source": [
    "### Explain the purpose of the `__init__()` method in Python inheritance and how it is utilized in child classes."
   ]
  },
  {
   "cell_type": "raw",
   "id": "e7b0191e-9953-4395-8336-15ca223dfa12",
   "metadata": {},
   "source": [
    "The __init__() method in Python is a special method called a constructor. It is automatically invoked when an instance of a class is created. Its primary purpose is to initialize the object's attributes and to set up any necessary state. In the context of inheritance, the __init__() method in child classes can be used to initialize the attributes of the parent class as well as any additional attributes specific to the child class."
   ]
  },
  {
   "cell_type": "code",
   "execution_count": 6,
   "id": "b667521b-e574-4896-99e4-6af613e2e7ca",
   "metadata": {},
   "outputs": [
    {
     "name": "stdout",
     "output_type": "stream",
     "text": [
      "Abhishek 20000\n"
     ]
    }
   ],
   "source": [
    "class Employee:\n",
    "    def __init__(self, name, salary):\n",
    "        self.name = name\n",
    "        self.salary = salary\n",
    "        \n",
    "    def display_info(self):\n",
    "        print(self.name, self.salary)\n",
    "        \n",
    "a = Employee(\"Abhishek\", 20000)\n",
    "a.display_info()"
   ]
  },
  {
   "cell_type": "raw",
   "id": "b2afb4a6-ff4a-45b2-977c-70b9acb73fc4",
   "metadata": {},
   "source": [
    "When a child class inherits from a parent class, it can call the __init__() method of the parent class using the super() function. This ensures that the parent class is properly initialized before the child class adds its own initialization."
   ]
  },
  {
   "cell_type": "code",
   "execution_count": 9,
   "id": "fe71f965-9a0b-444d-843e-9b97ffb2fbb7",
   "metadata": {},
   "outputs": [
    {
     "name": "stdout",
     "output_type": "stream",
     "text": [
      "Abhishek 20000 Electrical\n",
      "None\n"
     ]
    }
   ],
   "source": [
    "class Employee:\n",
    "    def __init__(self, name, salary):\n",
    "        self.name = name\n",
    "        self.salary = salary\n",
    "        \n",
    "    def display_info(self):\n",
    "        print(self.name, self.salary)\n",
    "        \n",
    "class Manager(Employee):\n",
    "    def __init__(self, name, salary, dept):\n",
    "        super().__init__(name, salary)\n",
    "        self.dept = dept\n",
    "        \n",
    "    def display_mag(self):\n",
    "        print(self.name, self.salary, self.dept)\n",
    "        \n",
    "mag = Manager(\"Abhishek\", 20000, \"Electrical\")\n",
    "print(mag.display_mag())"
   ]
  },
  {
   "cell_type": "code",
   "execution_count": null,
   "id": "13ae6127-e8f2-43fe-811f-06217ac213a5",
   "metadata": {},
   "outputs": [],
   "source": []
  },
  {
   "cell_type": "markdown",
   "id": "04f39d0f-6b02-4a1f-8917-e280ba53ec1c",
   "metadata": {},
   "source": [
    "### What is the \"diamond problem\" in multiple inheritance, and how does Python address it?"
   ]
  },
  {
   "cell_type": "markdown",
   "id": "da2b28c1-c690-4f25-aa44-f554df741919",
   "metadata": {},
   "source": [
    "\n",
    "The \"diamond problem\" in multiple inheritance occurs when a class inherits from two classes that both inherit from a common base class."
   ]
  },
  {
   "cell_type": "code",
   "execution_count": 14,
   "id": "29f87241-72cf-435a-8229-5d89bfb91949",
   "metadata": {},
   "outputs": [
    {
     "name": "stdout",
     "output_type": "stream",
     "text": [
      "Method is D\n",
      "Method is B\n",
      "Method is C\n",
      "Method is A\n"
     ]
    }
   ],
   "source": [
    "class A:\n",
    "    def method(self):\n",
    "        print(\"Method is A\")\n",
    "        \n",
    "class B(A):\n",
    "    def method(self):\n",
    "        print(\"Method is B\")\n",
    "        super().method()\n",
    "        \n",
    "    \n",
    "class C(A):\n",
    "    def method(self):\n",
    "        print(\"Method is C\")\n",
    "        super().method()\n",
    "        \n",
    "class D(B, C):\n",
    "    def method(self):\n",
    "        print(\"Method is D\")\n",
    "        super().method()\n",
    "        \n",
    "d = D()\n",
    "d.method()"
   ]
  },
  {
   "cell_type": "code",
   "execution_count": null,
   "id": "daf09d67-3936-4880-a0d0-dd3708a6d7b8",
   "metadata": {},
   "outputs": [],
   "source": []
  },
  {
   "cell_type": "markdown",
   "id": "5d286b66-dd33-4f88-8dee-1798f41f986b",
   "metadata": {},
   "source": [
    "## Encapsulation:"
   ]
  },
  {
   "cell_type": "markdown",
   "id": "4bc6561d-3fd9-47f1-bc2e-6a41ea18940a",
   "metadata": {},
   "source": [
    "### 1. Explain the concept of encapsulation in Python. What is its role in object-oriented programming?"
   ]
  },
  {
   "cell_type": "raw",
   "id": "45323ea7-90be-4f8b-9ccd-9e43174f8521",
   "metadata": {},
   "source": [
    "Encapsulation is one of the four fundamental principles of object-oriented programming (OOP), alongside inheritance, polymorphism, and abstraction. Encapsulation refers to the bundling of data (attributes) and methods (functions) that operate on the data into a single unit or class. It restricts direct access to some of the object's components, which is meant to prevent accidental interference and misuse of the data"
   ]
  },
  {
   "cell_type": "code",
   "execution_count": null,
   "id": "02af829b-5529-4602-8a56-ffec226d2b43",
   "metadata": {},
   "outputs": [],
   "source": []
  },
  {
   "cell_type": "markdown",
   "id": "f09258c9-799e-450d-aa97-00cb88dd3a3f",
   "metadata": {},
   "source": [
    "### 2. Describe the key principles of encapsulation, including access control and data hiding."
   ]
  },
  {
   "cell_type": "raw",
   "id": "d85c2155-42e3-4aac-9a9d-3b476731e7e7",
   "metadata": {},
   "source": [
    "Encapsulation is a fundamental concept in object-oriented programming (OOP) that involves bundling the data (attributes) and the methods (functions) that operate on the data into a single unit or class. It serves to protect an object's internal state and ensures that the object's data is only accessible in controlled ways. Here’s a detailed description of the key principles of encapsulation, focusing on access control and data hiding."
   ]
  },
  {
   "cell_type": "code",
   "execution_count": null,
   "id": "9c8971e2-a7a1-49ef-9658-b54c27449975",
   "metadata": {},
   "outputs": [],
   "source": []
  },
  {
   "cell_type": "markdown",
   "id": "93cc97f6-4d08-4047-8077-5f153813ba4b",
   "metadata": {},
   "source": [
    "### 3. How can you achieve encapsulation in Python classes? Provide an example."
   ]
  },
  {
   "cell_type": "code",
   "execution_count": 3,
   "id": "2de8aaac-fa21-40a6-90f9-15ae58dafc83",
   "metadata": {},
   "outputs": [
    {
     "name": "stdout",
     "output_type": "stream",
     "text": [
      "12345678\n",
      "1000\n",
      "1500\n"
     ]
    },
    {
     "ename": "TypeError",
     "evalue": "Account.check_pin() takes 1 positional argument but 2 were given",
     "output_type": "error",
     "traceback": [
      "\u001b[0;31m---------------------------------------------------------------------------\u001b[0m",
      "\u001b[0;31mTypeError\u001b[0m                                 Traceback (most recent call last)",
      "Cell \u001b[0;32mIn[3], line 37\u001b[0m\n\u001b[1;32m     34\u001b[0m account\u001b[38;5;241m.\u001b[39mdeposit(\u001b[38;5;241m500\u001b[39m)\n\u001b[1;32m     35\u001b[0m \u001b[38;5;28mprint\u001b[39m(account\u001b[38;5;241m.\u001b[39mget_balance())\n\u001b[0;32m---> 37\u001b[0m \u001b[38;5;28mprint\u001b[39m(\u001b[43maccount\u001b[49m\u001b[38;5;241;43m.\u001b[39;49m\u001b[43mcheck_pin\u001b[49m\u001b[43m(\u001b[49m\u001b[38;5;124;43m\"\u001b[39;49m\u001b[38;5;124;43m1234\u001b[39;49m\u001b[38;5;124;43m\"\u001b[39;49m\u001b[43m)\u001b[49m) \n",
      "\u001b[0;31mTypeError\u001b[0m: Account.check_pin() takes 1 positional argument but 2 were given"
     ]
    }
   ],
   "source": [
    "class Account:\n",
    "    def __init__(self, account_num, balance):\n",
    "        self.account_num = account_num\n",
    "        self._balance = balance\n",
    "        self.__pin = \"1234\"\n",
    "        \n",
    "    def deposit(self, amount):\n",
    "        if amount > 0:\n",
    "            self._balance += amount\n",
    "        else:\n",
    "            return \"Deposit must be Positive\"\n",
    "        \n",
    "    def withdraw(self, amount):\n",
    "        if 0 < amount <= self._balance:\n",
    "             self._balance -= amount\n",
    "        else:\n",
    "            return \"Insufficient Balance\"\n",
    "        \n",
    "    def get_balance(self):\n",
    "        return self._balance\n",
    "    \n",
    "    def __get_pin(self):\n",
    "        return self.__pin\n",
    "    \n",
    "    def check_pin(self):\n",
    "        return self.__get_pin() == pin\n",
    "    \n",
    "account = Account(\"12345678\", 1000)\n",
    "\n",
    "print(account.account_num)  \n",
    "\n",
    "print(account._balance)\n",
    "\n",
    "account.deposit(500)\n",
    "print(account.get_balance())\n",
    "\n",
    "print(account.check_pin(\"1234\")) "
   ]
  },
  {
   "cell_type": "code",
   "execution_count": null,
   "id": "2f0c4756-cd32-44aa-a4cc-c10cec2be782",
   "metadata": {},
   "outputs": [],
   "source": []
  },
  {
   "cell_type": "markdown",
   "id": "0f2c5c6c-859c-4176-9c74-109c99dc0cf0",
   "metadata": {},
   "source": [
    "### 4. Discuss the difference between public, private, and protected access modifiers in Python."
   ]
  },
  {
   "cell_type": "raw",
   "id": "efbd35c5-86b9-4359-a56d-0e8449b3eb81",
   "metadata": {},
   "source": [
    "In Python, access modifiers are used to control access to class attributes and methods, guiding how these elements can be accessed and modified from outside the class. Python employs naming conventions to denote different levels of access control: public, protected, and private."
   ]
  },
  {
   "cell_type": "raw",
   "id": "d0df8bcc-054e-49d7-9e61-cc66aed6200e",
   "metadata": {},
   "source": [
    "1. Public Access Modifier\n",
    "Definition: Public members (attributes and methods) are accessible from anywhere—inside the class, from subclasses, and from outside the class.\n",
    "\n",
    "Purpose: Public access is used for attributes and methods that are meant to be accessed and modified freely by any code that interacts with the class.\n",
    "\n",
    "Syntax: No special prefix is used for public members."
   ]
  },
  {
   "cell_type": "raw",
   "id": "041fc95f-1f85-4762-bb6c-f7a9076659cd",
   "metadata": {},
   "source": [
    "2. Protected Access Modifier\n",
    "Definition: Protected members are intended to be accessed only within the class and its subclasses. While technically accessible from outside the class, it is considered bad practice to access them directly.\n",
    "\n",
    "Purpose: Protected access is used for attributes and methods that are meant to be used internally by the class and its subclasses, but not by external code.\n",
    "\n",
    "Syntax: A single underscore prefix (_) is used for protected members."
   ]
  },
  {
   "cell_type": "raw",
   "id": "4394e87b-b597-4d1a-a041-3e52ba2ae2bc",
   "metadata": {},
   "source": [
    "3. Private Access Modifier\n",
    "Definition: Private members are intended to be accessed only within the class itself. They cannot be accessed from outside the class or from subclasses.\n",
    "\n",
    "Purpose: Private access is used for attributes and methods that should not be accessed or modified directly from outside the class. It helps in maintaining the integrity of the data and encapsulating the internal state.\n",
    "\n",
    "Syntax: A double underscore prefix (__) is used for private members."
   ]
  },
  {
   "cell_type": "code",
   "execution_count": null,
   "id": "1755c68f-178b-4358-ab71-4be40efcd103",
   "metadata": {},
   "outputs": [],
   "source": []
  },
  {
   "cell_type": "markdown",
   "id": "b76b94d1-8a19-4594-a606-031b9c966a24",
   "metadata": {},
   "source": [
    "### 5. Create a Python class called `Person` with a private attribute `__name`. Provide methods to get and set the name attribute."
   ]
  },
  {
   "cell_type": "code",
   "execution_count": 9,
   "id": "29e93aca-a975-4cb9-ba5b-5a244b976933",
   "metadata": {},
   "outputs": [
    {
     "name": "stdout",
     "output_type": "stream",
     "text": [
      "Abhishek\n"
     ]
    }
   ],
   "source": [
    "class Person:\n",
    "    def __init__(self):\n",
    "        self.__name = \"Abhishek\"\n",
    "        \n",
    "   \n",
    "a = Person()\n",
    "print(a._Person__name)"
   ]
  },
  {
   "cell_type": "code",
   "execution_count": null,
   "id": "1f6edc2c-d10b-4bc4-a8ed-b9998ef022eb",
   "metadata": {},
   "outputs": [],
   "source": []
  },
  {
   "cell_type": "markdown",
   "id": "c2d52ffa-743d-495f-8239-6623e3a1adb7",
   "metadata": {},
   "source": [
    "### 6. Explain the purpose of getter and setter methods in encapsulation. Provide examples."
   ]
  },
  {
   "cell_type": "code",
   "execution_count": 4,
   "id": "70d0c552-ecc5-4d55-b1ac-a0e899788bcd",
   "metadata": {},
   "outputs": [
    {
     "name": "stdout",
     "output_type": "stream",
     "text": [
      "Abhi\n",
      "Abhishek\n"
     ]
    }
   ],
   "source": [
    "class Person:\n",
    "    def __init__(self, name):\n",
    "        self.__name = name\n",
    "        \n",
    "    def get_name(self):\n",
    "        return self.__name\n",
    "    \n",
    "    def set_name(self, name):\n",
    "        if isinstance (name, str) and name:\n",
    "            self.__name = name\n",
    "        else:\n",
    "            return \"name must be string\"\n",
    "        \n",
    "person = Person(\"Abhi\")\n",
    "print(person.get_name())\n",
    "\n",
    "person.set_name(\"Abhishek\")\n",
    "print(person.get_name())"
   ]
  },
  {
   "cell_type": "code",
   "execution_count": null,
   "id": "cb8c2d18-9a98-4845-a249-3da551dd561c",
   "metadata": {},
   "outputs": [],
   "source": []
  },
  {
   "cell_type": "markdown",
   "id": "1a1f992c-31f6-4003-831b-6da826a3e9e7",
   "metadata": {},
   "source": [
    "### 7. What is name mangling in Python, and how does it affect encapsulation?"
   ]
  },
  {
   "cell_type": "raw",
   "id": "1a15a4ee-8fe8-4b35-94d5-ba5ce31d9c8f",
   "metadata": {},
   "source": [
    "Name mangling in Python is a mechanism that helps with encapsulation by altering the names of private attributes in a way that makes them harder to access from outside the class. It is used to prevent accidental name conflicts in subclasses."
   ]
  },
  {
   "cell_type": "code",
   "execution_count": 7,
   "id": "0a0c95dc-6fe3-45f8-88af-f0c5b1e53ae4",
   "metadata": {},
   "outputs": [
    {
     "name": "stdout",
     "output_type": "stream",
     "text": [
      "Abhi\n",
      "Abhi\n"
     ]
    }
   ],
   "source": [
    "class Person:\n",
    "    def __init__(self, name):\n",
    "        self.__name = name\n",
    "        \n",
    "    def get_name(self):\n",
    "        return self.__name\n",
    "    \n",
    "person = Person(\"Abhi\")\n",
    "\n",
    "print(person.get_name())\n",
    "\n",
    "\n",
    "#mangling method\n",
    "print(person._Person__name)"
   ]
  },
  {
   "cell_type": "code",
   "execution_count": null,
   "id": "7f1d0d57-3bbb-44b8-bab8-bd4a25460945",
   "metadata": {},
   "outputs": [],
   "source": []
  },
  {
   "cell_type": "markdown",
   "id": "857a6aa1-af10-4221-ae8f-83a2782405d9",
   "metadata": {},
   "source": [
    "### 8. Create a Python class called `BankAccount` with private attributes for the account balance (`__balance`) and account number ('__account_number'). Provide method for depositing and withdrawng money."
   ]
  },
  {
   "cell_type": "code",
   "execution_count": 12,
   "id": "162f988b-a6e4-4795-94cd-bda245f5cf7d",
   "metadata": {},
   "outputs": [
    {
     "name": "stdout",
     "output_type": "stream",
     "text": [
      "Deposited amount500, and Balance1500\n",
      "1500\n"
     ]
    }
   ],
   "source": [
    "class BankAccount:\n",
    "    def __init__(self, balance, account_number):\n",
    "        self.__balance = balance\n",
    "        self.__account_number = account_number\n",
    "        \n",
    "    def deposit(self, amount):\n",
    "        if amount > 0:\n",
    "            self.__balance += amount\n",
    "            return f\"Deposited amount{amount}, and Balance{self.__balance}\"\n",
    "        else:\n",
    "            return f\"Deposited amount must be Positive\"\n",
    "        \n",
    "    def withdraw(self, amount):\n",
    "        if amount > 0:\n",
    "            if amount <= self.__balance:\n",
    "                self.__balance -= amount\n",
    "                return f\"Withdrew {amount}. New balance is {self.__balance}.\"\n",
    "            else:\n",
    "                return f\"Insufficent balance\"\n",
    "        else:\n",
    "            return f\" Amount must be Positive\"\n",
    "        \n",
    "        \n",
    "    def get_balance(self):\n",
    "        return self.__balance\n",
    "    \n",
    "    def get_account_num(self):\n",
    "        return self.__account_number\n",
    "            \n",
    "account = BankAccount(1000, \"12345678\",)\n",
    "\n",
    "print(account.deposit(500))\n",
    "print(account.get_balance())"
   ]
  },
  {
   "cell_type": "code",
   "execution_count": null,
   "id": "936f4aa1-7f84-45fc-a445-91122c4d3c46",
   "metadata": {},
   "outputs": [],
   "source": []
  },
  {
   "cell_type": "markdown",
   "id": "9dc7d354-70ae-4e99-a84d-b32701113c30",
   "metadata": {},
   "source": [
    "### 9. Discuss the advantages of encapsulation in terms of code maintainability and security."
   ]
  },
  {
   "cell_type": "raw",
   "id": "8965b0cd-e55e-45d7-b193-5e192946d05b",
   "metadata": {},
   "source": [
    "Advantages of Encapsulation\n",
    "1. Improved Code Maintainability\n",
    "Isolation of Changes:\n",
    "Encapsulation allows changes to be made to a class's implementation without affecting other parts of the program. If the internal representation of an object changes, the code that uses the object can remain unchanged.\n",
    "Simplifies Debugging and Testing:\n",
    "Encapsulated classes can be tested independently. Since the internal state of an object is protected from external modification, bugs related to unexpected changes in the state are reduced.\n",
    "Code Reusability:\n",
    "Encapsulation promotes reusability. Well-encapsulated classes can be reused across different programs without modifications, enhancing the modularity of the code.\n",
    "Ease of Understanding:\n",
    "Encapsulation makes it easier to understand and manage the code. Each class has a clear purpose, and the way data is managed within that class is hidden from the outside.\n",
    "\n",
    "\n",
    "2. Enhanced Security\n",
    "Controlled Access:\n",
    "By restricting access to the internal state of an object, encapsulation prevents external code from making unintended or harmful changes to the object's state. Only the class's methods can access and modify the internal data, ensuring better control.\n",
    "Data Hiding:\n",
    "Encapsulation hides the internal implementation details of a class from the outside world. This abstraction prevents external entities from depending on specific details of the class, reducing the risk of unintended interactions and misuse.\n",
    "Preventing Invalid Data:\n",
    "Encapsulation allows for validation within setter methods before updating an attribute's value. This ensures that the object's state remains valid and consistent, reducing the risk of errors caused by invalid data.\n",
    "Read-Only Attributes:\n",
    "Encapsulation can enforce read-only attributes by providing getter methods but no corresponding setter methods, thereby protecting certain data from modification."
   ]
  },
  {
   "cell_type": "code",
   "execution_count": null,
   "id": "e94b6514-b254-4c84-9841-266506369ec3",
   "metadata": {},
   "outputs": [],
   "source": []
  },
  {
   "cell_type": "markdown",
   "id": "9b65d3e3-4bc3-4976-a49e-27cdd26a32e5",
   "metadata": {},
   "source": [
    "### 10. How can you access private attributes in Python? Provide an example demonstrating the use of name mangling."
   ]
  },
  {
   "cell_type": "code",
   "execution_count": 13,
   "id": "9137e40e-0ab2-4e68-9546-82547b27ef5a",
   "metadata": {},
   "outputs": [
    {
     "name": "stdout",
     "output_type": "stream",
     "text": [
      "Abhi\n"
     ]
    }
   ],
   "source": [
    "class Person:\n",
    "    def __init__(self, name, age):\n",
    "        self.__name = name\n",
    "        self.__age = age\n",
    "        \n",
    "    def get_name(self):\n",
    "        return self.__name\n",
    "    \n",
    "    def set_name(self, name):\n",
    "        if isinstance (name, str) and name:\n",
    "            self.__name = name\n",
    "        else:\n",
    "            return (\"Must be String\")\n",
    "            \n",
    "    def get_age(self):\n",
    "        return self.__age\n",
    "    \n",
    "    def set_name(self, age):\n",
    "        if isinstance (age, int) and age>=0:\n",
    "            self.__age = age\n",
    "        else:\n",
    "            return (\"Must be Intger\")\n",
    "        \n",
    "person = Person(\"Abhi\", 24)\n",
    "print(person.get_name())"
   ]
  },
  {
   "cell_type": "code",
   "execution_count": null,
   "id": "f922e103-85fa-444f-98fe-694d4a7b223c",
   "metadata": {},
   "outputs": [],
   "source": []
  },
  {
   "cell_type": "markdown",
   "id": "1ae1661f-8723-43f1-92c7-410ed70ccd83",
   "metadata": {},
   "source": [
    "### 11. Create a Python class hierarchy for a school system, including classes for students, teachers, and courses, and implement encapsulation principles to protect sensitive information."
   ]
  },
  {
   "cell_type": "code",
   "execution_count": 25,
   "id": "a255d777-464f-4d7e-8df2-c09d93b10784",
   "metadata": {},
   "outputs": [
    {
     "name": "stdout",
     "output_type": "stream",
     "text": [
      "T456\n"
     ]
    }
   ],
   "source": [
    "class Person:\n",
    "    def __init__(self, name, age):\n",
    "        self.__name = name\n",
    "        self.__age = age\n",
    "        \n",
    "    def get_name(self):\n",
    "        return self.__name\n",
    "    \n",
    "    def set_name(self):\n",
    "        if isinstance(name, str) and name:\n",
    "            self.__name = name\n",
    "        else:\n",
    "            raise ValueError(\"Name must be a non-empty string\")\n",
    "            \n",
    "    def get_age(self):\n",
    "        return self.__age\n",
    "    \n",
    "    def set_age(self):\n",
    "        if isinstance(age, int) and age:\n",
    "            self.__age = age\n",
    "        else:\n",
    "            return (\"Must be a integer\")\n",
    "        \n",
    "class Student(Person):\n",
    "    def __init__(self, name, age, student_id):\n",
    "        super().__init__(name, age)\n",
    "        self.__student_id = student_id\n",
    "        self.__courses = []\n",
    "        \n",
    "    def get_stu_id(self):\n",
    "        return self.__student_id\n",
    "    \n",
    "    def enroll_in_course(self):\n",
    "        self.__course.append(course)\n",
    "        \n",
    "    def get_course(self):\n",
    "        return self.__courses\n",
    "    \n",
    "    \n",
    "class Teacher(Person):\n",
    "    def __init__(self, name, age, employee_id):\n",
    "        super().__init__(name,age)\n",
    "        self.employee_id = employee_id\n",
    "        self.__courses = []\n",
    "        \n",
    "    def get_employee_id(self):\n",
    "        return self.__employee_id\n",
    "    \n",
    "    def assign_course(self, course):\n",
    "        self.__courses.append(course)\n",
    "        \n",
    "    def get_courses(self):\n",
    "        return self.__courses\n",
    "        \n",
    "        \n",
    "teacher1 = Teacher(\"Mr. Smith\", 40, \"T456\")\n",
    "print(teacher1.employee_id)"
   ]
  },
  {
   "cell_type": "code",
   "execution_count": null,
   "id": "380291e7-d579-4a71-a3dd-6d6e6a9f2850",
   "metadata": {},
   "outputs": [],
   "source": []
  },
  {
   "cell_type": "markdown",
   "id": "8391d79c-4b44-4ff0-8006-9bcae46360fc",
   "metadata": {},
   "source": [
    "### 13. What is data hiding, and why is it important in encapsulation? Provide examples."
   ]
  },
  {
   "cell_type": "raw",
   "id": "05b46a4d-c5aa-4e1a-9f7d-4bdfd9938ad3",
   "metadata": {},
   "source": [
    "Data hiding is a concept in object-oriented programming (OOP) that restricts access to the internal state or implementation details of an object. This is an essential aspect of encapsulation, which involves bundling data and the methods that operate on that data into a single unit, typically a class, and restricting access to some of the object's components."
   ]
  },
  {
   "cell_type": "raw",
   "id": "e82d5acd-e2bc-4cec-8de8-cad25e8a0b7b",
   "metadata": {},
   "source": [
    "Importance of Data Hiding in Encapsulation\n",
    "Control Access: By hiding the internal data, you can control how the data is accessed and modified. This prevents unintended interference and misuse.\n",
    "Maintainability: It allows the internal implementation of a class to be changed without affecting the external code that uses the class. This leads to better maintainability and flexibility.\n",
    "Security: Sensitive data can be protected from unauthorized access and modifications.\n",
    "Abstraction: It helps in abstracting the complexity of the internal implementation and provides a simple interface for the users of the class."
   ]
  },
  {
   "cell_type": "code",
   "execution_count": 1,
   "id": "2a12624e-9dc6-4f2c-b2cf-987114713b8d",
   "metadata": {},
   "outputs": [
    {
     "name": "stdout",
     "output_type": "stream",
     "text": [
      "1000\n",
      "1500\n",
      "1300\n",
      "1300\n"
     ]
    }
   ],
   "source": [
    "class BankAccount:\n",
    "    def __init__(self, balance):\n",
    "        self.__balance = balance  # The double underscore denotes a private variable\n",
    "\n",
    "    def deposit(self, amount):\n",
    "        if amount > 0:\n",
    "            self.__balance += amount\n",
    "        else:\n",
    "            print(\"Invalid deposit amount\")\n",
    "\n",
    "    def withdraw(self, amount):\n",
    "        if 0 < amount <= self.__balance:\n",
    "            self.__balance -= amount\n",
    "        else:\n",
    "            print(\"Invalid withdraw amount\")\n",
    "\n",
    "    def get_balance(self):\n",
    "        return self.__balance\n",
    "\n",
    "# Usage\n",
    "account = BankAccount(1000)\n",
    "print(account.get_balance())  # 1000\n",
    "account.deposit(500)\n",
    "print(account.get_balance())  # 1500\n",
    "account.withdraw(200)\n",
    "print(account.get_balance())  # 1300\n",
    "\n",
    "# Direct access to __balance is not possible\n",
    "# print(account.__balance)  # This will raise an AttributeError\n",
    "\n",
    "# Name mangling allows access, but it's discouraged\n",
    "print(account._BankAccount__balance)  # 1300\n"
   ]
  },
  {
   "cell_type": "code",
   "execution_count": null,
   "id": "e1c633da-b3da-44e8-b2b6-caa6fb5925a2",
   "metadata": {},
   "outputs": [],
   "source": []
  },
  {
   "cell_type": "markdown",
   "id": "7f806cd1-0378-4eba-a9e7-304443221f25",
   "metadata": {},
   "source": [
    "### 14) Create a python class called 'Employee' with private attributes for salary ('__salary') and employee ID ('__employee_id\"). Provide a method to calculate yearly bonus."
   ]
  },
  {
   "cell_type": "code",
   "execution_count": null,
   "id": "133323aa-b00c-4ba0-b96a-e09550310249",
   "metadata": {},
   "outputs": [],
   "source": [
    "class Employee:\n",
    "    def __init__(self, salary, employee_ID):\n",
    "        self.__salary = salary\n",
    "        self.__employee_id = employee_ID\n",
    "        \n",
    "    def cal_bonus(self, bonus_percentage):\n",
    "        return self.__salary * bonus_percentage\n",
    "    \n",
    "    def get_employee_id(self):\n",
    "        return self.__employee_id\n",
    "    \n",
    "    def get_salary(self):\n",
    "        return self.__salary\n",
    "    \n",
    "    def set_salary(self, new_salary):\n",
    "        if new_salary >= 0:\n",
    "            self.__salary = new_salary\n",
    "        else:\n",
    "            print(\"Invalid Salary amount\")\n",
    "            \n",
    "employee = Employee(20000, 1234)\n",
    "\n",
    "print(f\"Employee_ID {employee.get_employee_id()}\")\n",
    "print(f\"salary {employee.get_salary()}\")\n",
    "\n",
    "bonus_percentage = 0.10\n",
    "yearly_bonus = employee.cal_bonus(bonus_percentage)\n",
    "print(f\"Yearly Bonus {yearly_bonus}\")\n",
    "\n",
    "employee.set_salary(20000)\n",
    "print(f\"Updated Salary: {employee.get_salary()}\")"
   ]
  },
  {
   "cell_type": "code",
   "execution_count": null,
   "id": "349662f4-883c-46e3-a630-3ae8d799f603",
   "metadata": {},
   "outputs": [],
   "source": []
  },
  {
   "cell_type": "markdown",
   "id": "76b28bd7-b4ca-4cdb-aad2-7aabd105e018",
   "metadata": {},
   "source": [
    "### 15. Discuss the use of accessors and mutators in encapsulation. How do they help maintain control over attribute access?"
   ]
  },
  {
   "cell_type": "raw",
   "id": "6d9ae3a0-818b-410b-8da9-f732744908be",
   "metadata": {},
   "source": [
    "Accessors and mutators, commonly referred to as getters and setters, are methods used in object-oriented programming to provide controlled access to an object's attributes. They are a fundamental part of encapsulation, which is one of the core principles of OOP."
   ]
  },
  {
   "cell_type": "raw",
   "id": "c9810693-c0a3-4dc7-9a38-5eea37fd525a",
   "metadata": {},
   "source": [
    "Accessors (Getters)\n",
    "Accessors, or getters, are methods used to retrieve the value of an object's private or protected attributes. The primary purpose of accessors is to provide read access to an attribute while maintaining the ability to control how and when the attribute's value is accessed.\n",
    "\n",
    "Mutators (Setters)\n",
    "Mutators, or setters, are methods used to modify the value of an object's private or protected attributes. The primary purpose of mutators is to provide write access to an attribute while allowing the implementation of validation and other logic to ensure the integrity of the attribute's value."
   ]
  },
  {
   "cell_type": "code",
   "execution_count": 18,
   "id": "fdbd6509-fc1a-4289-869f-6ba127072dae",
   "metadata": {},
   "outputs": [
    {
     "name": "stdout",
     "output_type": "stream",
     "text": [
      "20000\n",
      "1234\n"
     ]
    }
   ],
   "source": [
    "class Employee:\n",
    "    def __init__(self, employee_id, salary):\n",
    "        self.__employee_id = employee_id\n",
    "        self.__salary = salary\n",
    "        \n",
    "    def get_employee_id(self):\n",
    "        return self.__employee_id\n",
    "    \n",
    "    def get_salary(self):\n",
    "        return self.__salary\n",
    "    \n",
    "a = Employee(\"1234\", 20000)\n",
    "print(a.get_salary())\n",
    "print(a.get_employee_id())"
   ]
  },
  {
   "cell_type": "code",
   "execution_count": null,
   "id": "2924d5e3-16a3-4d55-8058-5067aade48a6",
   "metadata": {},
   "outputs": [],
   "source": []
  },
  {
   "cell_type": "markdown",
   "id": "4aba188c-c125-43db-b1eb-9ff8aeb54a0f",
   "metadata": {},
   "source": [
    "### 16. What are the potential drawbacks or disadvantages of using encapsulation in Python?"
   ]
  },
  {
   "cell_type": "raw",
   "id": "65283df7-666c-429d-92be-c2c0904b20f1",
   "metadata": {},
   "source": [
    "1. Increased Complexity\n",
    "2. Performance Overhead\n",
    "3. Reduced Flexibility"
   ]
  },
  {
   "cell_type": "code",
   "execution_count": null,
   "id": "2b25010a-ef35-4cc9-b587-ad88923270c5",
   "metadata": {},
   "outputs": [],
   "source": []
  },
  {
   "cell_type": "markdown",
   "id": "fd38a34b-34dc-459c-a21b-5380811757c8",
   "metadata": {},
   "source": [
    "### 17. Create a Python class for a library system that encapsulates book information, including titles, authors, and availability status."
   ]
  },
  {
   "cell_type": "code",
   "execution_count": 32,
   "id": "11000b75-6389-407e-84d8-ce51a2ccc303",
   "metadata": {},
   "outputs": [
    {
     "name": "stdout",
     "output_type": "stream",
     "text": [
      "Book name : THE GOD OF SMALL THINGS, Author name : ARUNDHATI ROY\n"
     ]
    }
   ],
   "source": [
    "class Book:\n",
    "    def __init__(self, title, author):\n",
    "        self.__title = title\n",
    "        self.__author = author\n",
    "        \n",
    "    def get_title(self):\n",
    "        return self.__title\n",
    "    \n",
    "    def get_author(self):\n",
    "        return self.__author\n",
    "\n",
    "b = Book(\"THE GOD OF SMALL THINGS\", \"ARUNDHATI ROY\")\n",
    "    \n",
    "print(f\"Book name : {b.get_title()}, Author name : {b.get_author()}\")"
   ]
  },
  {
   "cell_type": "code",
   "execution_count": null,
   "id": "8e7c5a8e-1139-4293-9930-27b7c80ea0cd",
   "metadata": {},
   "outputs": [],
   "source": []
  },
  {
   "cell_type": "markdown",
   "id": "abc7f267-66a1-44bf-b2cc-49f3bfc8f2ff",
   "metadata": {},
   "source": [
    "### 18. Explain how encapsulation enhances code reusability and modularity in Python programs."
   ]
  },
  {
   "cell_type": "raw",
   "id": "e26dd5fa-b934-43bc-9a83-3aaa9e8394c0",
   "metadata": {},
   "source": [
    "Encapsulation, a fundamental concept in object-oriented programming (OOP), significantly enhances code reusability and modularity in Python programs."
   ]
  },
  {
   "cell_type": "raw",
   "id": "36212de6-1115-4409-b392-8384846be3b8",
   "metadata": {},
   "source": [
    "Enhancing Code Reusability:\n",
    "    1. Encapsulation of Data and Behavior:\n",
    "\n",
    "By bundling data (attributes) and behavior (methods) into a single unit (class), encapsulation allows these components to be reused across different parts of a program or in different programs.\n",
    "For example, a Book class with attributes like title, author, and methods like check_out, return_book can be reused in any library system, without needing to rewrite the code.\n",
    "\n",
    "2. Reducing Code Duplication:\n",
    "\n",
    "Encapsulation promotes the use of common classes and methods, reducing code duplication. Instead of writing the same logic multiple times, you can create a class that encapsulates the logic and reuse it wherever needed.\n",
    "For instance, a DatabaseConnection class that encapsulates connection logic can be reused across multiple modules requiring database access."
   ]
  },
  {
   "cell_type": "code",
   "execution_count": null,
   "id": "170eb4f7-5dae-4d65-9090-8c2572bc156b",
   "metadata": {},
   "outputs": [],
   "source": []
  },
  {
   "cell_type": "markdown",
   "id": "eaa7596e-6aa7-4a3f-b809-265d95ede3cf",
   "metadata": {},
   "source": [
    "### 19. Describe the concept of information hiding in encapsulation. Why is it essential in software development?"
   ]
  },
  {
   "cell_type": "raw",
   "id": "824ef120-92f0-422f-bdd3-e51ccb231446",
   "metadata": {},
   "source": [
    "Information hiding is a key concept in encapsulation that involves restricting access to the internal state and implementation details of an object. It’s about keeping the internal workings of a class hidden from the outside world and only exposing a controlled and well-defined interface for interaction."
   ]
  },
  {
   "cell_type": "code",
   "execution_count": null,
   "id": "2b8d20d7-cc37-4fae-8b7c-10d5d915d354",
   "metadata": {},
   "outputs": [],
   "source": []
  },
  {
   "cell_type": "markdown",
   "id": "1ba3d237-1723-4fa7-8938-151b99d1d9e7",
   "metadata": {},
   "source": [
    "### 20) Create a Python class called `Customer` with private attributes for customer details like name, address, and contact information. Implement encapsulation to ensure data integrity and security."
   ]
  },
  {
   "cell_type": "code",
   "execution_count": 8,
   "id": "7b08401f-08ac-49b2-880b-5ac7b5846247",
   "metadata": {},
   "outputs": [
    {
     "name": "stdout",
     "output_type": "stream",
     "text": [
      "Name: Abhi, address: Pune, contact: 123456\n"
     ]
    }
   ],
   "source": [
    "class Customer:\n",
    "    def __init__(self, name, address, contact_info):\n",
    "        self.__name = name\n",
    "        self.__address = address\n",
    "        self.__contact_info = contact_info\n",
    "        \n",
    "    def get_name(self):\n",
    "        return self.__name\n",
    "    \n",
    "    def set_name(self, new_name):\n",
    "        if isinstance(new_name, str):\n",
    "            self.__name = new_name\n",
    "        else:\n",
    "            return f\"Not String\"\n",
    "        \n",
    "    def get_address(self):\n",
    "        return self.__address\n",
    "    \n",
    "    def set_address(self, new_address):\n",
    "        if isinstance(new_address, str):\n",
    "            self.__address = new_address\n",
    "        else:\n",
    "            return f\"Not a String\"\n",
    "        \n",
    "    def get_contact_info(self):\n",
    "        return self.__contact_info\n",
    "    \n",
    "    def set_contact_info(self, new_contact_info):\n",
    "        if isinstance(new_contact_info, str):\n",
    "            self.__contact_info = new_contact_info\n",
    "        else:\n",
    "            return f\"Not a string\"\n",
    "        \n",
    "    def display_info(self):\n",
    "        print(f\"Name: {self.__name}, address: {self.__address}, contact: {self.__contact_info}\")\n",
    "               \n",
    "c = Customer(\"Abhi\", \"Pune\", \"123456\")\n",
    "c.display_info()"
   ]
  },
  {
   "cell_type": "code",
   "execution_count": null,
   "id": "6a47608e-0522-4e45-aa8c-0891798802bb",
   "metadata": {},
   "outputs": [],
   "source": []
  },
  {
   "cell_type": "markdown",
   "id": "aeb15d0b-c40b-4ad3-bd74-74216ad9ea4b",
   "metadata": {},
   "source": [
    "## Polymorphism:"
   ]
  },
  {
   "cell_type": "markdown",
   "id": "8a83333d-dccb-439a-860a-ad7fda03c30c",
   "metadata": {},
   "source": [
    "### 1. What is polymorphism in Python? Explain how it is related to object-oriented programming."
   ]
  },
  {
   "cell_type": "raw",
   "id": "e64b215a-c176-4d88-86bc-381e15fba153",
   "metadata": {},
   "source": [
    "Polymorphism is a core concept in object-oriented programming (OOP) that refers to the ability of different objects to respond to the same method call in a way that is specific to their individual types. In Python, polymorphism allows methods to do different things based on the object it is acting upon, even if they share the same name."
   ]
  },
  {
   "cell_type": "code",
   "execution_count": null,
   "id": "4dea9447-2db3-4789-a368-8999d630d703",
   "metadata": {},
   "outputs": [],
   "source": []
  },
  {
   "cell_type": "markdown",
   "id": "179b4445-90f8-4094-97fd-4287ea09a640",
   "metadata": {},
   "source": [
    "### 2. Describe the difference between compile-time polymorphism and runtime polymorphism in Python."
   ]
  },
  {
   "cell_type": "raw",
   "id": "1c74b2ca-95df-43e0-88a7-62a26bbe2e7a",
   "metadata": {},
   "source": [
    "Compile-time Polymorphism:\n",
    "Compile-time polymorphism, also known as static polymorphism, occurs when the method to be called is determined at compile time. This typically involves method overloading and operator overloading.\n",
    "\n",
    "Runtime Polymorphism:\n",
    "Runtime polymorphism, also known as dynamic polymorphism, occurs when the method to be called is determined at runtime. This is typically achieved through method overriding and the use of base class references to call methods on derived class objects."
   ]
  },
  {
   "cell_type": "code",
   "execution_count": null,
   "id": "0300582f-b149-4814-bf59-8929bf2a2c22",
   "metadata": {},
   "outputs": [],
   "source": []
  },
  {
   "cell_type": "markdown",
   "id": "d6284333-f1a3-46a4-a3b4-254d2b66c23c",
   "metadata": {},
   "source": [
    "### 4. Explain the concept of method overriding in polymorphism. Provide an example."
   ]
  },
  {
   "cell_type": "raw",
   "id": "ffb3b3fe-392a-46e7-9797-ae6a321f1889",
   "metadata": {},
   "source": [
    "Method Overriding is a feature in object-oriented programming that allows a subclass to provide a specific implementation of a method that is already defined in its superclass. The overridden method in the subclass has the same name, return type, and parameters as the method in the superclass. This allows the subclass to customize or extend the behavior of the method."
   ]
  },
  {
   "cell_type": "code",
   "execution_count": 2,
   "id": "0f1b927a-9aa8-4d3c-ab01-b5266a3629be",
   "metadata": {},
   "outputs": [
    {
     "name": "stdout",
     "output_type": "stream",
     "text": [
      "Animal speaks\n",
      "Dog Barks\n",
      "Cat Meows\n"
     ]
    }
   ],
   "source": [
    "class Animal:\n",
    "    def speak(self):\n",
    "        print(\"Animal speaks\")\n",
    "        \n",
    "class Dog(Animal):\n",
    "    def speak(self):\n",
    "        print(\"Dog Barks\")\n",
    "        \n",
    "class Cat(Animal):\n",
    "    def speak(self):\n",
    "        print(\"Cat Meows\")\n",
    "        \n",
    "if __name__ == \"__main__\":\n",
    "    \n",
    "    animal = Animal()\n",
    "    dog = Dog()\n",
    "    cat = Cat()\n",
    "    \n",
    "    animals = [animal, dog, cat]\n",
    "    \n",
    "    for animal in animals:\n",
    "        animal.speak()"
   ]
  },
  {
   "cell_type": "code",
   "execution_count": null,
   "id": "2495e1df-7b64-4156-a9f1-e43384c34c6a",
   "metadata": {},
   "outputs": [],
   "source": []
  },
  {
   "cell_type": "markdown",
   "id": "1b4ca7a6-da94-4e41-b797-b3c0dc6e707f",
   "metadata": {},
   "source": [
    "### 5. How is polymorphism different from method overloading in Python? Provide examples for both."
   ]
  },
  {
   "cell_type": "raw",
   "id": "d46e9f87-6aaa-46c2-80c3-bd6531721b34",
   "metadata": {},
   "source": [
    "Polymorphism allows objects of different classes to be treated as objects of a common superclass. "
   ]
  },
  {
   "cell_type": "code",
   "execution_count": 3,
   "id": "64e0ef61-a4a8-498c-b055-7d645a44fa16",
   "metadata": {},
   "outputs": [
    {
     "name": "stdout",
     "output_type": "stream",
     "text": [
      "Bark\n",
      "Meow\n",
      "Any Sound\n"
     ]
    }
   ],
   "source": [
    "class Animal:\n",
    "    def speak(self):\n",
    "        return \"Any Sound\"\n",
    "    \n",
    "class Dog(Animal):\n",
    "    def speak(self):\n",
    "        return \"Bark\"\n",
    "    \n",
    "class Cat(Animal):\n",
    "    def speak(self):\n",
    "        return \"Meow\"\n",
    "    \n",
    "def make_animal_speak(animal):\n",
    "    print(animal.speak())\n",
    "    \n",
    "dog = Dog()\n",
    "cat = Cat()\n",
    "any_animal = Animal()\n",
    "\n",
    "make_animal_speak(dog)\n",
    "make_animal_speak(cat)\n",
    "make_animal_speak(any_animal)"
   ]
  },
  {
   "cell_type": "code",
   "execution_count": null,
   "id": "5fec29e8-fddd-49dd-8765-e696f37fc448",
   "metadata": {},
   "outputs": [],
   "source": []
  },
  {
   "cell_type": "raw",
   "id": "d180e55a-0037-4172-a692-39e47d4c4c81",
   "metadata": {},
   "source": [
    "In Python, true method overloading (like in some other languages) is not supported, but we can simulate it using default parameters or variable-length argument lists."
   ]
  },
  {
   "cell_type": "code",
   "execution_count": 4,
   "id": "30f337ff-8dd3-4573-b360-f9d8cacb6cfe",
   "metadata": {},
   "outputs": [
    {
     "name": "stdout",
     "output_type": "stream",
     "text": [
      "3\n",
      "6\n"
     ]
    }
   ],
   "source": [
    "class Math_ops:\n",
    "    def add(self, a, b, c=0):\n",
    "        return a + b + c\n",
    "    \n",
    "math = Math_ops()\n",
    "\n",
    "print(math.add(1,2))\n",
    "print(math.add(1,2,3))"
   ]
  },
  {
   "cell_type": "code",
   "execution_count": null,
   "id": "17f77dc7-2a9c-4818-b4f9-6284797f6302",
   "metadata": {},
   "outputs": [],
   "source": []
  },
  {
   "cell_type": "markdown",
   "id": "60c19039-104d-4983-9aae-f678a29abb74",
   "metadata": {},
   "source": [
    "### 6. Create a Python class called `Animal` with a method `speak()`. Then, create child classes like `Dog`, `Cat`, and `Bird`, each with their own `speak()` method. Demonstrate polymorphism by calling the `speak()` method on objects of different subclasses."
   ]
  },
  {
   "cell_type": "code",
   "execution_count": 7,
   "id": "353c77ce-36cf-4438-8eab-a093ddcf125e",
   "metadata": {},
   "outputs": [
    {
     "name": "stdout",
     "output_type": "stream",
     "text": [
      "Dog Barks\n",
      "Cat Meows\n",
      "Bird Chirps\n",
      "Any Sound\n"
     ]
    }
   ],
   "source": [
    "class Animal:\n",
    "    def speak(self):\n",
    "        return \"Any Sound\"\n",
    "    \n",
    "class Dog(Animal):\n",
    "    def speak(self):\n",
    "        return \"Dog Barks\"\n",
    "    \n",
    "class Cat(Animal):\n",
    "    def speak(self):\n",
    "        return \"Cat Meows\"\n",
    "    \n",
    "class Bird(Animal):\n",
    "    def speak(self):\n",
    "        return \"Bird Chirps\"\n",
    "    \n",
    "def make_speak(animal):\n",
    "    print(animal.speak())\n",
    "          \n",
    "if __name__ == \"__main__\":\n",
    "          \n",
    "          dog = Dog()\n",
    "          cat = Cat()\n",
    "          bird = Bird()\n",
    "          any_animal = Animal()\n",
    "          \n",
    "          animals = [dog, cat, bird, any_animal]\n",
    "          \n",
    "          for animal in animals:\n",
    "                make_speak(animal)\n",
    "          "
   ]
  },
  {
   "cell_type": "code",
   "execution_count": null,
   "id": "e0a5a590-d96d-4f6a-a633-f76992c7cd8d",
   "metadata": {},
   "outputs": [],
   "source": []
  },
  {
   "cell_type": "markdown",
   "id": "e833bfe7-05d6-4f2f-99f4-fc43b2291648",
   "metadata": {},
   "source": [
    "### 7. Discuss the use of abstract methods and classes in achieving polymorphism in Python. Provide an example using the `abc` module."
   ]
  },
  {
   "cell_type": "raw",
   "id": "172a1082-f3cd-420d-8556-ea701432651b",
   "metadata": {},
   "source": [
    "Abstract methods and abstract classes are powerful tools in object-oriented programming that help achieve polymorphism in Python. They are used to define a common interface for a group of related classes, ensuring that certain methods are implemented in subclasses. The abc (Abstract Base Classes) module in Python provides the functionality to define abstract methods and abstract classes."
   ]
  },
  {
   "cell_type": "code",
   "execution_count": 3,
   "id": "12ddb9d4-a610-4abe-bcc0-182200bf809e",
   "metadata": {},
   "outputs": [
    {
     "name": "stdout",
     "output_type": "stream",
     "text": [
      "Car engine is started\n",
      "Bike engine is started\n"
     ]
    }
   ],
   "source": [
    "from abc import ABC, abstractmethod\n",
    "\n",
    "class Vehicle(ABC):\n",
    "    \n",
    "    @abstractmethod\n",
    "    def start_engine(self):\n",
    "        pass\n",
    "    \n",
    "class Car(Vehicle):\n",
    "    def start_engine(self):\n",
    "        return \"Car engine is started\"\n",
    "    \n",
    "class Bike(Vehicle):\n",
    "    def start_engine(self):\n",
    "        return \"Bike engine is started\"\n",
    "    \n",
    "def op_engine(vehicle):\n",
    "    print(vehicle.start_engine())\n",
    "    \n",
    "if __name__ == \"__main__\":\n",
    "    \n",
    "    my_car = Car()\n",
    "    my_bike = Bike()\n",
    "    \n",
    "    vehicles = [my_car, my_bike]\n",
    "    \n",
    "    for vehicle in vehicles:\n",
    "        op_engine(vehicle)\n",
    "    \n",
    "    "
   ]
  },
  {
   "cell_type": "code",
   "execution_count": null,
   "id": "44e3ae95-15ee-44b7-ab11-641a2aa8fc02",
   "metadata": {},
   "outputs": [],
   "source": []
  },
  {
   "cell_type": "markdown",
   "id": "3fa6d06f-7a9b-4afd-88e7-b1ec9cca9a1d",
   "metadata": {},
   "source": [
    "### 8. Create a Python class hierarchy for a vehicle system (e.g., car, bicycle, boat) and implement a polymorphic 'start()' method and print a message specific to each vehicle type."
   ]
  },
  {
   "cell_type": "code",
   "execution_count": 4,
   "id": "ae4253d3-b917-48db-8f9c-ce7850000785",
   "metadata": {},
   "outputs": [
    {
     "name": "stdout",
     "output_type": "stream",
     "text": [
      "Car engine is started\n",
      "Bicycle is started\n",
      "Boat is started\n"
     ]
    }
   ],
   "source": [
    "from abc import ABC, abstractmethod\n",
    "\n",
    "class Vehicle(ABC):\n",
    "    \n",
    "    @abstractmethod\n",
    "    def start(self):\n",
    "        pass\n",
    "    \n",
    "class Car(Vehicle):\n",
    "    def start(self):\n",
    "        print(\"Car engine is started\")\n",
    "        \n",
    "class Bicycle(Vehicle):\n",
    "    def start(self):\n",
    "        print(\"Bicycle is started\")\n",
    "        \n",
    "class Boat(Vehicle):\n",
    "    def start(self):\n",
    "        print(\"Boat is started\")\n",
    "        \n",
    "def start_vehicle(vehicle):\n",
    "    vehicle.start()\n",
    "    \n",
    "if __name__ == \"__main__\":\n",
    "    \n",
    "    my_car = Car()\n",
    "    my_bicycle = Bicycle()\n",
    "    my_boat = Boat()\n",
    "    \n",
    "    vehicles = [my_car, my_bicycle, my_boat]\n",
    "    \n",
    "    for vehicle in vehicles:\n",
    "        start_vehicle(vehicle)"
   ]
  },
  {
   "cell_type": "code",
   "execution_count": null,
   "id": "a13b3345-398d-4c6a-a6f6-f8dd84b1cef3",
   "metadata": {},
   "outputs": [],
   "source": []
  },
  {
   "cell_type": "markdown",
   "id": "839be18f-5409-48cc-bfc2-e2a275b63712",
   "metadata": {},
   "source": [
    "### 9. Explain the significance of the `isinstance()` and `issubclass()` functions in Python polymorphism."
   ]
  },
  {
   "cell_type": "raw",
   "id": "53067de1-c7c4-4481-b87a-3e021b12970d",
   "metadata": {},
   "source": [
    "In Python, isinstance() and issubclass() are built-in functions that play important roles in polymorphism and inheritance. They provide a way to check the type of an object and the relationship between classes.\n",
    "\n",
    "isinstance()\n",
    "The isinstance() function is used to check if an object is an instance of a particular class or a tuple of classes. It returns True if the object is an instance, otherwise it returns False.\n",
    "\n",
    "issubclass()\n",
    "The issubclass() function is used to check if a class is a subclass of another class or a tuple of classes. It returns True if the first class is a subclass of the second class or one of the classes in the tuple, otherwise it returns False"
   ]
  },
  {
   "cell_type": "code",
   "execution_count": null,
   "id": "044be03a-51d4-4d32-8741-45fa0e6a4a4b",
   "metadata": {},
   "outputs": [],
   "source": []
  },
  {
   "cell_type": "markdown",
   "id": "00067f2b-9b95-48a9-bc2a-410d61ad243b",
   "metadata": {},
   "source": [
    "### 10. What is the role of the `@abstractmethod` decorator in achieving polymorphism in Python? Provide an example."
   ]
  },
  {
   "cell_type": "raw",
   "id": "1a424617-f8c9-42b5-b096-b0f4a69ced8c",
   "metadata": {},
   "source": [
    "The @abstractmethod decorator in Python is used to declare a method in an abstract class that must be overridden in any subclass. It is part of the abc module, which provides the infrastructure for defining abstract base classes (ABCs). The primary role of @abstractmethod is to enforce that subclasses implement the specified methods, ensuring that a common interface is followed, which is essential for achieving polymorphism."
   ]
  },
  {
   "cell_type": "raw",
   "id": "e150940d-b71f-4005-ae74-d6252c78abe6",
   "metadata": {},
   "source": [
    "ROLE:\n",
    "\n",
    "Enforces Implementation: By marking methods with @abstractmethod, you ensure that any concrete subclass must provide an implementation for these methods. This helps in maintaining a consistent interface across different subclasses.\n",
    "\n",
    "Defines Common Interface: Abstract methods define a common interface that all subclasses must adhere to, which is crucial for polymorphism. This allows different subclasses to be used interchangeably while ensuring they have the necessary methods.\n",
    "\n",
    "Promotes Code Reusability: By defining abstract methods in a base class, you can leverage polymorphism to write more reusable and maintainable code. Different subclasses can have varied implementations of the abstract methods, but the interface remains the same."
   ]
  },
  {
   "cell_type": "code",
   "execution_count": 5,
   "id": "6f9c28fc-6050-4ea3-919d-38dda1c0cfd0",
   "metadata": {},
   "outputs": [
    {
     "name": "stdout",
     "output_type": "stream",
     "text": [
      "Car engine started\n",
      "Car engine stopped\n",
      "Bicycle pedals moving\n",
      "Bicycle pedals stopped\n",
      "Boat engine started\n",
      "Boat engine stopped\n"
     ]
    }
   ],
   "source": [
    "from abc import ABC, abstractmethod\n",
    "\n",
    "# Abstract base class\n",
    "class Vehicle(ABC):\n",
    "    \n",
    "    @abstractmethod\n",
    "    def start(self):\n",
    "        \"\"\"Abstract method to be implemented by subclasses\"\"\"\n",
    "        pass\n",
    "    \n",
    "    @abstractmethod\n",
    "    def stop(self):\n",
    "        \"\"\"Abstract method to be implemented by subclasses\"\"\"\n",
    "        pass\n",
    "\n",
    "# Subclass Car\n",
    "class Car(Vehicle):\n",
    "    def start(self):\n",
    "        print(\"Car engine started\")\n",
    "\n",
    "    def stop(self):\n",
    "        print(\"Car engine stopped\")\n",
    "\n",
    "# Subclass Bicycle\n",
    "class Bicycle(Vehicle):\n",
    "    def start(self):\n",
    "        print(\"Bicycle pedals moving\")\n",
    "\n",
    "    def stop(self):\n",
    "        print(\"Bicycle pedals stopped\")\n",
    "\n",
    "# Subclass Boat\n",
    "class Boat(Vehicle):\n",
    "    def start(self):\n",
    "        print(\"Boat engine started\")\n",
    "\n",
    "    def stop(self):\n",
    "        print(\"Boat engine stopped\")\n",
    "\n",
    "# Function to demonstrate polymorphism\n",
    "def operate_vehicle(vehicle):\n",
    "    vehicle.start()\n",
    "    vehicle.stop()\n",
    "\n",
    "# Main block to create instances and demonstrate polymorphism\n",
    "if __name__ == \"__main__\":\n",
    "    # Creating instances of each subclass\n",
    "    my_car = Car()\n",
    "    my_bicycle = Bicycle()\n",
    "    my_boat = Boat()\n",
    "\n",
    "    # List of vehicles\n",
    "    vehicles = [my_car, my_bicycle, my_boat]\n",
    "\n",
    "    # Calling the start and stop methods on each vehicle\n",
    "    for vehicle in vehicles:\n",
    "        operate_vehicle(vehicle)\n"
   ]
  },
  {
   "cell_type": "code",
   "execution_count": null,
   "id": "4c9ad29c-dc83-42c3-9a4b-f704da9267cf",
   "metadata": {},
   "outputs": [],
   "source": []
  },
  {
   "cell_type": "markdown",
   "id": "97325ebc-60fd-49bb-a8e1-45aea025c0fe",
   "metadata": {},
   "source": [
    "### 11. Create a python class called 'Shape' with polymorphic method 'area()' that calculates the area of different shapes.(e.g., circle, rectangle, triangle)"
   ]
  },
  {
   "cell_type": "code",
   "execution_count": 8,
   "id": "a4e1238e-3d9e-46ad-bd61-afb0923af52c",
   "metadata": {},
   "outputs": [
    {
     "name": "stdout",
     "output_type": "stream",
     "text": [
      "The area is : 78.53981633974483\n",
      "None\n",
      "The area is : 24\n",
      "None\n",
      "The area is : 10.5\n",
      "None\n"
     ]
    }
   ],
   "source": [
    "from abc import ABC, abstractmethod\n",
    "import math\n",
    "\n",
    "class Shape(ABC):\n",
    "    \n",
    "    @abstractmethod\n",
    "    def area(self):\n",
    "        pass\n",
    "    \n",
    "class Circle(Shape):\n",
    "    def __init__(self, radius):\n",
    "        self.radius = radius\n",
    "        \n",
    "    def area(self):\n",
    "        return math.pi * self.radius**2\n",
    "    \n",
    "class Rectangle(Shape):\n",
    "    def __init__(self, width, height):\n",
    "        self.width = width\n",
    "        self.height = height\n",
    "        \n",
    "    def area(self):\n",
    "        return self.width * self.height\n",
    "    \n",
    "class Triangle(Shape):\n",
    "    def __init__(self, base, height):\n",
    "        self.base = base\n",
    "        self.height = height\n",
    "        \n",
    "    def area(self):\n",
    "        return 0.5 * self.base * self.height\n",
    "    \n",
    "def print_area(Shape):\n",
    "    print(f\"The area is : {shape.area()}\")\n",
    "    \n",
    "if __name__ == \"__main__\":\n",
    "    \n",
    "    my_circle = Circle(radius=5)\n",
    "    my_rectangle = Rectangle(width=4, height = 6)\n",
    "    my_triangle = Triangle(base = 3, height = 7)\n",
    "    \n",
    "    shapes = [my_circle, my_rectangle, my_triangle]\n",
    "    \n",
    "    for shape in shapes:\n",
    "        print(print_area(shape))"
   ]
  },
  {
   "cell_type": "code",
   "execution_count": null,
   "id": "a5aadfd7-0055-4aa7-b5d0-2bb9ffdd5af8",
   "metadata": {},
   "outputs": [],
   "source": []
  },
  {
   "cell_type": "markdown",
   "id": "39d9ab9d-1808-4da3-a0e7-3b4f713e1794",
   "metadata": {},
   "source": [
    "### 12. Discuss the benefits of polymorphism in terms of code reusability and flexibility in Python programs."
   ]
  },
  {
   "cell_type": "raw",
   "id": "11e8a3e0-bd7a-431d-adee-38ef1fe36d3f",
   "metadata": {},
   "source": [
    "\n",
    "Polymorphism is a core concept in object-oriented programming (OOP) that enhances code reusability and flexibility. By allowing objects of different classes to be treated as objects of a common superclass, polymorphism enables a single interface to represent different underlying forms (data types). Here are the key benefits of polymorphism in Python programs.\n",
    "\n",
    "Code Reusability:\n",
    "\n",
    "Generic Functions: Polymorphism allows the creation of functions and methods that operate on objects of various types, making them reusable across different parts of a program. For example, a single function can process different types of shapes, animals, or vehicles without modification.\n",
    "Reduced Redundancy: By writing polymorphic code, you avoid duplicating similar methods for different classes, reducing redundancy and making the codebase more maintainable.\n",
    "\n",
    "Flexibility and Extensibility\n",
    "\n",
    "Easier to Extend: Adding new classes that adhere to the same interface doesn't require changing existing code. New types can be added with minimal changes, enhancing flexibility and making the system easier to extend.\n",
    "Interchangeability: Objects of different classes can be used interchangeably if they share a common interface. This allows for dynamic and flexible code where the behavior can change at runtime depending on the actual object type."
   ]
  },
  {
   "cell_type": "code",
   "execution_count": null,
   "id": "14b4f879-68b9-488b-bb29-a95d7d56661f",
   "metadata": {},
   "outputs": [],
   "source": []
  },
  {
   "cell_type": "markdown",
   "id": "d999cf7c-af79-41fb-80bc-1d5cfd225ee8",
   "metadata": {},
   "source": [
    "### 13. Explain the use of the `super()` function in Python polymorphism. How does it help call methods of parent classes?"
   ]
  },
  {
   "cell_type": "raw",
   "id": "a794596f-6ef2-425f-be68-46a7c54e42e1",
   "metadata": {},
   "source": [
    "\n",
    "The super() function in Python is used to call methods of a parent class from a child class. It provides a way to access inherited methods that have been overridden in a subclass, allowing the subclass to extend or modify the behavior of the parent class's methods. This is particularly useful in polymorphism and multiple inheritance."
   ]
  },
  {
   "cell_type": "code",
   "execution_count": 9,
   "id": "98569415-4375-41e5-b6af-62ac3dec2237",
   "metadata": {},
   "outputs": [
    {
     "name": "stdout",
     "output_type": "stream",
     "text": [
      "Animal makes a sound\n",
      "Dog Barks\n"
     ]
    }
   ],
   "source": [
    "class Animal:\n",
    "    def speak(self):\n",
    "        print(\"Animal makes a sound\")\n",
    "        \n",
    "class Dog(Animal):\n",
    "    def speak(self):\n",
    "        super().speak()\n",
    "        print(\"Dog Barks\")\n",
    "        \n",
    "dog = Dog()\n",
    "dog.speak()"
   ]
  },
  {
   "cell_type": "code",
   "execution_count": null,
   "id": "d0e48877-392d-4b18-b5f0-7cad5077fefd",
   "metadata": {},
   "outputs": [],
   "source": []
  },
  {
   "cell_type": "markdown",
   "id": "9557b2b6-7a59-41f7-99bf-bca98320205d",
   "metadata": {},
   "source": [
    "### 14. Create a Python class heirachy for a banking system with various account types(e.g., savings, checking, credit card) and demonstrate polymorphism by implementing a common 'withdraw()' method."
   ]
  },
  {
   "cell_type": "code",
   "execution_count": 10,
   "id": "1577fd7b-bc1c-4d3b-87ed-677a5a851f4d",
   "metadata": {},
   "outputs": [
    {
     "name": "stdout",
     "output_type": "stream",
     "text": [
      "Withdrew 200 from Savings Account. New balance: 800\n",
      "Withdrew 1200 from Checking Account. New balance: -200\n",
      "Withdrew 3000 from Credit Card Account. New balance: 5000\n"
     ]
    }
   ],
   "source": [
    "from abc import ABC, abstractmethod\n",
    "\n",
    "# Abstract base class\n",
    "class BankAccount(ABC):\n",
    "    def __init__(self, balance):\n",
    "        self.balance = balance\n",
    "\n",
    "    @abstractmethod\n",
    "    def withdraw(self, amount):\n",
    "        pass\n",
    "\n",
    "# Subclass SavingsAccount\n",
    "class SavingsAccount(BankAccount):\n",
    "    def withdraw(self, amount):\n",
    "        if amount > self.balance:\n",
    "            print(\"Insufficient funds in Savings Account\")\n",
    "        else:\n",
    "            self.balance -= amount\n",
    "            print(f\"Withdrew {amount} from Savings Account. New balance: {self.balance}\")\n",
    "\n",
    "# Subclass CheckingAccount\n",
    "class CheckingAccount(BankAccount):\n",
    "    def withdraw(self, amount):\n",
    "        if amount > self.balance + 500:  # Assuming overdraft limit of 500\n",
    "            print(\"Insufficient funds in Checking Account\")\n",
    "        else:\n",
    "            self.balance -= amount\n",
    "            print(f\"Withdrew {amount} from Checking Account. New balance: {self.balance}\")\n",
    "\n",
    "# Subclass CreditCardAccount\n",
    "class CreditCardAccount(BankAccount):\n",
    "    def withdraw(self, amount):\n",
    "        # Credit cards usually allow withdrawals up to the credit limit.\n",
    "        credit_limit = 10000  # Example credit limit\n",
    "        if amount > credit_limit - self.balance:\n",
    "            print(\"Credit limit exceeded\")\n",
    "        else:\n",
    "            self.balance += amount\n",
    "            print(f\"Withdrew {amount} from Credit Card Account. New balance: {self.balance}\")\n",
    "\n",
    "# Function to demonstrate polymorphism\n",
    "def perform_withdrawal(account, amount):\n",
    "    account.withdraw(amount)\n",
    "\n",
    "# Main block to create instances and demonstrate polymorphism\n",
    "if __name__ == \"__main__\":\n",
    "    # Creating instances of each subclass\n",
    "    savings = SavingsAccount(1000)\n",
    "    checking = CheckingAccount(1000)\n",
    "    credit_card = CreditCardAccount(2000)\n",
    "\n",
    "    # List of accounts\n",
    "    accounts = [(savings, 200), (checking, 1200), (credit_card, 3000)]\n",
    "\n",
    "    # Calling the withdraw method on each account\n",
    "    for account, amount in accounts:\n",
    "        perform_withdrawal(account, amount)\n"
   ]
  },
  {
   "cell_type": "code",
   "execution_count": null,
   "id": "9449422a-fe9d-4131-82f6-2f31860813ab",
   "metadata": {},
   "outputs": [],
   "source": []
  },
  {
   "cell_type": "markdown",
   "id": "b405451b-4b03-4d69-bb46-9f901f759eca",
   "metadata": {},
   "source": [
    "### 16. What is dynamic polymorphism, and how is it achieved in Python?"
   ]
  },
  {
   "cell_type": "markdown",
   "id": "d298e11f-5895-4dca-a5c8-1970e856e149",
   "metadata": {},
   "source": [
    "Dynamic polymorphism, also known as runtime polymorphism, is a concept in object-oriented programming where the method that gets invoked is determined at runtime based on the object's actual type. This allows for methods to be overridden in derived classes, enabling a common interface to interact with different implementations.\n",
    "\n",
    "In Python, dynamic polymorphism is achieved through method overriding and the use of inheritance. When a subclass provides a specific implementation of a method that is already defined in its superclass, the method in the subclass overrides the method in the superclass. The correct method is chosen at runtime based on the actual type of the object."
   ]
  },
  {
   "cell_type": "code",
   "execution_count": null,
   "id": "d95174e5-24a0-4e6b-bd8b-67a91fc2c581",
   "metadata": {},
   "outputs": [],
   "source": []
  },
  {
   "cell_type": "markdown",
   "id": "c9c6fc4d-9b12-43a4-8df5-9ea39ba7cc9c",
   "metadata": {},
   "source": [
    "### 17. Create a python class heirachy for employees in a company(e.g. manager, developer, designer) and implement polymorphism through a common 'calculate_salary()' method."
   ]
  },
  {
   "cell_type": "code",
   "execution_count": 1,
   "id": "c73a20e0-ad6b-45eb-aac6-7ba8968237b5",
   "metadata": {},
   "outputs": [
    {
     "name": "stdout",
     "output_type": "stream",
     "text": [
      "Alice's Salary: 95000\n",
      "Bob's Salary: 71000\n",
      "Charlie's Salary: 75000\n"
     ]
    }
   ],
   "source": [
    "class Employee:\n",
    "    def __init__(self, name, base_salary):\n",
    "        self.name = name\n",
    "        self.base_salary = base_salary\n",
    "\n",
    "    def calculate_salary(self):\n",
    "        return self.base_salary\n",
    "\n",
    "class Manager(Employee):\n",
    "    def __init__(self, name, base_salary, bonus):\n",
    "        super().__init__(name, base_salary)\n",
    "        self.bonus = bonus\n",
    "\n",
    "    def calculate_salary(self):\n",
    "        return self.base_salary + self.bonus\n",
    "\n",
    "class Developer(Employee):\n",
    "    def __init__(self, name, base_salary, overtime_hours, overtime_rate):\n",
    "        super().__init__(name, base_salary)\n",
    "        self.overtime_hours = overtime_hours\n",
    "        self.overtime_rate = overtime_rate\n",
    "\n",
    "    def calculate_salary(self):\n",
    "        return self.base_salary + (self.overtime_hours * self.overtime_rate)\n",
    "\n",
    "class Designer(Employee):\n",
    "    def __init__(self, name, base_salary, project_bonus):\n",
    "        super().__init__(name, base_salary)\n",
    "        self.project_bonus = project_bonus\n",
    "\n",
    "    def calculate_salary(self):\n",
    "        return self.base_salary + self.project_bonus\n",
    "\n",
    "def display_salary(employee: Employee):\n",
    "    print(f\"{employee.name}'s Salary: {employee.calculate_salary()}\")\n",
    "\n",
    "# Create instances of Manager, Developer, and Designer\n",
    "manager = Manager(\"Alice\", 80000, 15000)\n",
    "developer = Developer(\"Bob\", 70000, 20, 50)\n",
    "designer = Designer(\"Charlie\", 65000, 10000)\n",
    "\n",
    "# Demonstrating polymorphism\n",
    "display_salary(manager)   # Output: Alice's Salary: 95000\n",
    "display_salary(developer) # Output: Bob's Salary: 71000\n",
    "display_salary(designer)  # Output: Charlie's Salary: 75000\n"
   ]
  },
  {
   "cell_type": "code",
   "execution_count": null,
   "id": "e6276b11-f957-4a23-8dc1-2135ab0fae82",
   "metadata": {},
   "outputs": [],
   "source": []
  },
  {
   "cell_type": "markdown",
   "id": "71c25f52-8716-4e49-8846-80752f8d505a",
   "metadata": {},
   "source": [
    "## Abstraction:"
   ]
  },
  {
   "cell_type": "markdown",
   "id": "c9833229-298f-47d6-92bb-5ce319e9fec8",
   "metadata": {},
   "source": [
    "### 1. What is abstraction in Python, and how does it relate to object-oriented programming?"
   ]
  },
  {
   "cell_type": "raw",
   "id": "341ffef3-53e7-4eae-8041-441eef645969",
   "metadata": {},
   "source": [
    "Abstraction in Python is a key principle of object-oriented programming (OOP) that involves hiding the complex details of a system and exposing only the necessary parts through a simplified interface. It allows developers to work with higher-level concepts while ignoring the underlying implementation details, making it easier to manage and understand code."
   ]
  },
  {
   "cell_type": "code",
   "execution_count": null,
   "id": "874a482e-e129-4c68-b1d2-d09247b7fc45",
   "metadata": {},
   "outputs": [],
   "source": []
  },
  {
   "cell_type": "markdown",
   "id": "195cc032-9781-4a5f-81c7-4a50714d9ec6",
   "metadata": {},
   "source": [
    "### 2. Describe the benefits of abstraction in terms of code organization and complexity reduction."
   ]
  },
  {
   "cell_type": "raw",
   "id": "bd2614d6-0d90-486a-b042-fc0d6d0835ba",
   "metadata": {},
   "source": [
    "1. Improved Code Organization\n",
    "Modularity:\n",
    "\n",
    "Separation of Concerns: By isolating different aspects of a program into distinct modules or classes, abstraction helps in organizing code logically. Each module or class handles a specific functionality, making the codebase more modular.\n",
    "Clear Structure: With abstraction, the high-level structure of the code is clearer, as each class or module represents a well-defined part of the system.\n",
    "Encapsulation:\n",
    "\n",
    "Encapsulated Behavior: Abstract classes and methods encapsulate behavior that can be shared by multiple subclasses. This helps in keeping related functionalities together.\n",
    "Controlled Access: Abstraction ensures that the internal details of a class are hidden from the outside world, exposing only necessary parts. This reduces the risk of unintended interactions and dependencies.\n",
    "\n",
    "\n",
    "2. Complexity Reduction\n",
    "Simplified Interfaces:\n",
    "\n",
    "Ease of Use: By providing simplified interfaces for interacting with complex systems, abstraction reduces the cognitive load on developers. Users of a class or module do not need to understand its internal workings to use it effectively.\n",
    "Focus on Essentials: Abstraction allows developers to focus on the high-level functionality without getting bogged down by low-level implementation details.\n",
    "Code Reusability:\n",
    "\n",
    "Reuse of Abstractions: Abstract classes and interfaces can be reused across different parts of a project or even in different projects, promoting code reuse and reducing duplication.\n",
    "Flexibility: New implementations can be introduced without changing the abstract interface, making the codebase more flexible and easier to extend."
   ]
  },
  {
   "cell_type": "code",
   "execution_count": null,
   "id": "e40fb28e-46ca-4b9f-8a30-60d0daa2b4e1",
   "metadata": {},
   "outputs": [],
   "source": []
  },
  {
   "cell_type": "markdown",
   "id": "66c72920-e5c9-49f8-a75f-5b3a4b1cb32f",
   "metadata": {},
   "source": [
    "### 3. Create a Python class called `Shape` with an abstract method `calculate_area()`. Then, create child classes (e.g., `Circle`, `Rectangle`) that implement the `calculate_area()` method. Provide an example of using these classes."
   ]
  },
  {
   "cell_type": "code",
   "execution_count": 1,
   "id": "e34a4004-c44c-4ad9-8262-cb791787a456",
   "metadata": {},
   "outputs": [
    {
     "name": "stdout",
     "output_type": "stream",
     "text": [
      "The area is 50.26548245743669\n",
      "The area is 20\n"
     ]
    }
   ],
   "source": [
    "from abc import ABC, abstractmethod\n",
    "import math\n",
    "\n",
    "class Shape(ABC):\n",
    "    @abstractmethod\n",
    "    def calculate_area(self):\n",
    "        pass\n",
    "    \n",
    "class Circle(Shape):\n",
    "    def __init__(self, radius):\n",
    "        self.radius = radius\n",
    "        \n",
    "    def calculate_area(self):\n",
    "        return math.pi * (self.radius ** 2)\n",
    "    \n",
    "class Rectangle(Shape):\n",
    "    def __init__(self, height, weight):\n",
    "        self.height = height\n",
    "        self.weight = weight\n",
    "        \n",
    "    def calculate_area(self):\n",
    "        return self.height * self.weight\n",
    "    \n",
    "    \n",
    "def print_area(shape : Shape):\n",
    "    print(f\"The area is {shape.calculate_area()}\")\n",
    "    \n",
    "circle = Circle(4)\n",
    "rectangle = Rectangle(4,5)\n",
    "\n",
    "print_area(circle)\n",
    "print_area(rectangle)\n",
    "    "
   ]
  },
  {
   "cell_type": "code",
   "execution_count": null,
   "id": "be7bc3bd-1055-4779-934d-cdf66be1535c",
   "metadata": {},
   "outputs": [],
   "source": []
  },
  {
   "cell_type": "markdown",
   "id": "7251d6a9-a2fb-4ba9-8d0b-5540dc5ba302",
   "metadata": {},
   "source": [
    "### 4. Explain the concept of abstract classes in Python and how they are defined using the abc module. Provide an example"
   ]
  },
  {
   "cell_type": "raw",
   "id": "e226099b-cab4-4743-9399-8b81cd871515",
   "metadata": {},
   "source": [
    "An abstract class in Python is a class that cannot be instantiated directly and is meant to be subclassed. It serves as a blueprint for other classes and can define abstract methods that must be implemented by any subclass. Abstract classes are a key concept in object-oriented programming for creating a common interface for different classes while enforcing a certain structure."
   ]
  },
  {
   "cell_type": "raw",
   "id": "a17b727c-45c9-4f92-93f4-094b04de0c63",
   "metadata": {},
   "source": [
    "Concept of Abstract Classes:\n",
    "Cannot be Instantiated: You cannot create instances of an abstract class directly. It is designed to be a base class for other classes.\n",
    "Abstract Methods: An abstract class can have one or more abstract methods. These methods are declared but not implemented in the abstract class, and they must be overridden by subclasses.\n",
    "Enforcement of Method Implementation: Abstract classes enforce that subclasses provide implementations for the abstract methods."
   ]
  },
  {
   "cell_type": "raw",
   "id": "9989e2a3-e7b1-4f3a-8cac-89bad3cc0390",
   "metadata": {},
   "source": [
    "Defining Abstract Classes Using the abc Module\n",
    "Python’s abc (Abstract Base Classes) module provides tools for defining abstract classes and methods. Here's how you can use the abc module to define an abstract class:\n",
    "\n",
    "Import ABC and abstractmethod: Import ABC as the base class and abstractmethod as a decorator.\n",
    "Create an Abstract Class: Define a class that inherits from ABC and use the @abstractmethod decorator to declare methods that must be implemented by subclasses."
   ]
  },
  {
   "cell_type": "code",
   "execution_count": 2,
   "id": "4e81cd40-9987-419e-917a-1db38b35711c",
   "metadata": {},
   "outputs": [
    {
     "name": "stdout",
     "output_type": "stream",
     "text": [
      "The area is: 78.5\n",
      "The area is: 16\n"
     ]
    }
   ],
   "source": [
    "from abc import ABC, abstractmethod\n",
    "\n",
    "# Define an abstract class\n",
    "class Shape(ABC):\n",
    "    @abstractmethod\n",
    "    def calculate_area(self):\n",
    "        \"\"\"Subclasses must implement this method\"\"\"\n",
    "        pass\n",
    "\n",
    "# Define a concrete subclass for Circle\n",
    "class Circle(Shape):\n",
    "    def __init__(self, radius):\n",
    "        self.radius = radius\n",
    "\n",
    "    def calculate_area(self):\n",
    "        return 3.14 * (self.radius ** 2)\n",
    "\n",
    "# Define another concrete subclass for Square\n",
    "class Square(Shape):\n",
    "    def __init__(self, side):\n",
    "        self.side = side\n",
    "\n",
    "    def calculate_area(self):\n",
    "        return self.side * self.side\n",
    "\n",
    "# Example usage\n",
    "def print_area(shape: Shape):\n",
    "    print(f\"The area is: {shape.calculate_area()}\")\n",
    "\n",
    "# Create instances of Circle and Square\n",
    "circle = Circle(5)\n",
    "square = Square(4)\n",
    "\n",
    "# Calculate and print areas\n",
    "print_area(circle)  # Output: The area is: 78.5\n",
    "print_area(square)  # Output: The area is: 16\n"
   ]
  },
  {
   "cell_type": "code",
   "execution_count": null,
   "id": "80217b18-24c3-4eb0-85c4-393cd0735fe7",
   "metadata": {},
   "outputs": [],
   "source": []
  },
  {
   "cell_type": "markdown",
   "id": "6d9cffd3-4395-4f06-96ed-248f3066d75b",
   "metadata": {},
   "source": [
    "### 8. Create a python class heirachy for animals and implement abstraction by defining common methods (e.g. eat(), sleep()) in a astract base class."
   ]
  },
  {
   "cell_type": "code",
   "execution_count": null,
   "id": "212df754-ae5f-4d30-b052-d4d0ef4de850",
   "metadata": {},
   "outputs": [],
   "source": [
    "from abc import ABC, abstractmethod\n",
    "\n",
    "class Animal(ABC):\n",
    "    def __init__(self, name):\n",
    "        self.name = name\n",
    "        \n",
    "    @abstractmethod\n",
    "    def eat(self):\n",
    "        pass\n",
    "    \n",
    "    @abstractmethod\n",
    "    def sleep(self):\n",
    "        pass\n",
    "    \n",
    "class Dog(Animal):\n",
    "    def eat(self):\n",
    "        print(f\"{self.name} is eating dog food\")\n",
    "        \n",
    "    def sleep(self):\n",
    "        print(f\"{self.name} is sleeping in dog house)\n",
    "              \n",
    "class Cat(Animal):\n",
    "    def eat(self):\n",
    "        print(f\"{self.name} is eating cat food\")\n",
    "        \n",
    "    def sleep(self):\n",
    "        print(f\"{self.name} is sleeping in cat house)\n",
    "              \n",
    "def main():\n",
    "    dog = Dog(\"Moti\")\n",
    "    cat = Cat(\"Whiskers\")\n",
    "    \n",
    "    # Use the same methods for different animal types\n",
    "    animals = [dog, cat]\n",
    "    \n",
    "    for animal in animals:\n",
    "        print(animal)  # Output: Animal: [Name]\n",
    "        animal.eat()   # Output: [Name] is eating [Food].\n",
    "        animal.sleep() # Output: [Name] is sleeping [Place].\n",
    "        print()\n",
    "\n",
    "if __name__ == \"__main__\":\n",
    "    main()"
   ]
  },
  {
   "cell_type": "code",
   "execution_count": null,
   "id": "0f7b5ca2-3cb7-4963-b6ea-07f6a30156a8",
   "metadata": {},
   "outputs": [],
   "source": []
  },
  {
   "cell_type": "markdown",
   "id": "a9f4ec86-d6ac-4c79-a218-674a32803d7b",
   "metadata": {},
   "source": [
    "### 9. Explain the significance of encapsulation in achieving abstraction. Provide examples."
   ]
  },
  {
   "cell_type": "raw",
   "id": "b2c3d2b3-2249-4fab-bbb4-3d00186b9c60",
   "metadata": {},
   "source": [
    "Encapsulation is a fundamental principle in object-oriented programming (OOP) that plays a crucial role in achieving abstraction. Encapsulation refers to the bundling of data (variables) and methods (functions) that operate on the data into a single unit, usually a class, and restricting access to some of the object's components. This mechanism ensures that the internal representation of an object is hidden from the outside, only allowing access through well-defined interfaces."
   ]
  },
  {
   "cell_type": "code",
   "execution_count": null,
   "id": "abb2730d-572b-48d9-a0bb-fb549a8ff752",
   "metadata": {},
   "outputs": [],
   "source": []
  },
  {
   "cell_type": "markdown",
   "id": "93cae0f6-e238-4247-8c8f-35a0d0efc111",
   "metadata": {},
   "source": [
    "### 11. Create a python class for a vehicle system and demonstarte abstraction by defining commom methods (e.g. start(), stop()) in python base class."
   ]
  },
  {
   "cell_type": "code",
   "execution_count": 5,
   "id": "1306824e-2ca7-407f-ae50-4d329a818245",
   "metadata": {},
   "outputs": [
    {
     "name": "stdout",
     "output_type": "stream",
     "text": [
      "Car is running\n",
      "Car engine is started\n",
      "Car engine is stop\n",
      "Bike is running\n",
      "Bike is started\n",
      "Bike is stoped\n"
     ]
    }
   ],
   "source": [
    "from abc import ABC, abstractmethod\n",
    "class Vehicle(ABC):\n",
    "    @abstractmethod\n",
    "    def start(self):\n",
    "        pass\n",
    "    \n",
    "    @abstractmethod\n",
    "    def stop(self):\n",
    "        pass\n",
    "    \n",
    "    @abstractmethod\n",
    "    def drive(self):\n",
    "        pass\n",
    "    \n",
    "class Car(Vehicle):\n",
    "    def start(self):\n",
    "        print(\"Car engine is started\")\n",
    "        \n",
    "    def stop(self):\n",
    "        print(\"Car engine is stop\")\n",
    "        \n",
    "    def drive(self):\n",
    "        print(\"Car is running\")\n",
    "        \n",
    "class Bike(Vehicle):\n",
    "    def start(self):\n",
    "        print(\"Bike is started\")\n",
    "        \n",
    "    def stop(self):\n",
    "        print(\"Bike is stoped\")\n",
    "        \n",
    "    def drive(self):\n",
    "        print(\"Bike is running\")\n",
    "        \n",
    "car = Car()\n",
    "car.drive()\n",
    "car.start()\n",
    "car.stop()\n",
    "\n",
    "bike = Bike()\n",
    "bike.drive()\n",
    "bike.start()\n",
    "bike.stop()"
   ]
  },
  {
   "cell_type": "code",
   "execution_count": null,
   "id": "4f3e43f0-4a89-4c89-a451-c9e287a5fbf5",
   "metadata": {},
   "outputs": [],
   "source": []
  },
  {
   "cell_type": "markdown",
   "id": "161da40c-17af-496a-a4c7-7249baa70d1b",
   "metadata": {},
   "source": [
    "### 12. Describe the use of abstract properties in Python and how they can be employed in abstract classes."
   ]
  },
  {
   "cell_type": "raw",
   "id": "1fb36c19-8329-4a71-b8a7-e47e69807e75",
   "metadata": {},
   "source": [
    "Abstract properties in Python allow you to define properties in abstract classes that must be implemented in subclasses. This is useful when you want to enforce that certain attributes of a class are defined and provide specific behavior in the subclasses. The abc module provides the @abstractmethod decorator, which can also be used with properties to create abstract properties.\n",
    "\n",
    "Abstract properties are properties that are defined in an abstract class but do not contain any implementation. Subclasses are required to provide the implementation for these properties. This is achieved by combining the @property decorator with the @abstractmethod decorator."
   ]
  },
  {
   "cell_type": "code",
   "execution_count": null,
   "id": "2dd9250b-687e-4d79-97ec-e7759fc18256",
   "metadata": {},
   "outputs": [],
   "source": []
  },
  {
   "cell_type": "markdown",
   "id": "e370b4ad-d7df-4f37-9650-6b24e8c848f2",
   "metadata": {},
   "source": [
    "### 13. Create a python class heirachy for employees in a company (e.g., manager, developer, designer) and implement abstraction by defining a common 'get_salary()' method. "
   ]
  },
  {
   "cell_type": "code",
   "execution_count": 13,
   "id": "6a7e9f03-50ca-4ed0-a13f-47562b845498",
   "metadata": {},
   "outputs": [
    {
     "name": "stdout",
     "output_type": "stream",
     "text": [
      "Manager Abhi, 23500\n",
      "Developer B, 39000\n",
      "Designer C, 26456\n"
     ]
    }
   ],
   "source": [
    "from abc import ABC, abstractmethod\n",
    "class Employee:\n",
    "    def __init__(self, name, base_salary):\n",
    "        self.name = name\n",
    "        self.base_salary = base_salary\n",
    "        \n",
    "    @abstractmethod\n",
    "    def get_salary(self):\n",
    "        pass\n",
    "    \n",
    "    \n",
    "class Manager(Employee):\n",
    "    def __init__(self, name, base_salary, bonus):\n",
    "        super().__init__(name, base_salary)\n",
    "        self.bonus = bonus\n",
    "        \n",
    "    def get_salary(self):\n",
    "        return self.base_salary + self.bonus\n",
    "    \n",
    "class Developer(Employee):\n",
    "    def __init__(self, name, base_salary, overtime):\n",
    "        super().__init__(name, base_salary)\n",
    "        self.overtime = overtime\n",
    "        \n",
    "    def get_salary(self):\n",
    "        return self.base_salary + self.overtime\n",
    "    \n",
    "class Designer(Employee):\n",
    "    def __init__(self, name, base_salary, extra):\n",
    "        super().__init__(name, base_salary)\n",
    "        self.extra = extra\n",
    "        \n",
    "    def get_salary(self):\n",
    "        return self.base_salary + self.extra\n",
    "    \n",
    "manager = Manager(\"Abhi\", 20000, 3500)\n",
    "dev = Developer(\"B\", 35000, 4000)\n",
    "deg = Designer(\"C\", 23000, 3456)\n",
    "\n",
    "print(f\"Manager {manager.name}, {manager.get_salary()}\")\n",
    "print(f\"Developer {dev.name}, {dev.get_salary()}\")\n",
    "print(f\"Designer {deg.name}, {deg.get_salary()}\")\n"
   ]
  },
  {
   "cell_type": "code",
   "execution_count": null,
   "id": "5851d7a6-8d8f-48ea-9e5c-ab40165f1d22",
   "metadata": {},
   "outputs": [],
   "source": []
  },
  {
   "cell_type": "markdown",
   "id": "d456591e-dbd5-4955-969f-6fef42989256",
   "metadata": {},
   "source": [
    "### 16. Create a python class for a computer system, demonstrating abstraction by defining common methods (e.g. power_on(), shutdown()) in an abstract base class."
   ]
  },
  {
   "cell_type": "code",
   "execution_count": null,
   "id": "a6e3786d-1b1f-475d-be0c-23633c16294b",
   "metadata": {},
   "outputs": [
    {
     "name": "stdout",
     "output_type": "stream",
     "text": [
      "Dell OptiPlex desktop is powering on.\n",
      "Dell OptiPlex desktop is shutting down.\n",
      "Apple MacBook Pro laptop is powering on.\n",
      "Apple MacBook Pro laptop is shutting down.\n"
     ]
    }
   ],
   "source": [
    "from abc import ABC, abstractmethod\n",
    "class Computer(ABC):\n",
    "    def __init__(self, brand, model):\n",
    "        self.brand = brand\n",
    "        self.model = model\n",
    "        \n",
    "    @abstractmethod\n",
    "    def power_on(self):\n",
    "        pass\n",
    "    \n",
    "    @abstractmethod\n",
    "    def shutdown(self):\n",
    "        pass\n",
    "    \n",
    "class Desktop(Computer):\n",
    "    def __init__(self, brand, model, has_external_monitor):\n",
    "        super().__init__(brand, model)\n",
    "        self.has_external_monitor = has_external_monitor\n",
    "\n",
    "    def power_on(self):\n",
    "        print(f\"{self.brand} {self.model} desktop is powering on.\")\n",
    "\n",
    "    def shutdown(self):\n",
    "        print(f\"{self.brand} {self.model} desktop is shutting down.\")\n",
    "        \n",
    "class Laptop(Computer):\n",
    "    def __init__(self, brand, model, battery_life):\n",
    "        super().__init__(brand, model)\n",
    "        self.battery_life = battery_life\n",
    "\n",
    "    def power_on(self):\n",
    "        print(f\"{self.brand} {self.model} laptop is powering on.\")\n",
    "\n",
    "    def shutdown(self):\n",
    "        print(f\"{self.brand} {self.model} laptop is shutting down.\")\n",
    "\n",
    "desktop = Desktop(brand=\"Dell\", model=\"OptiPlex\", has_external_monitor=True)\n",
    "laptop = Laptop(brand=\"Apple\", model=\"MacBook Pro\", battery_life=10)\n",
    "\n",
    "\n",
    "desktop.power_on()  \n",
    "desktop.shutdown()  \n",
    "\n",
    "laptop.power_on() \n",
    "laptop.shutdown() \n"
   ]
  },
  {
   "cell_type": "code",
   "execution_count": null,
   "id": "a8b18e1f-b89c-4971-8b5d-afdb2df1b415",
   "metadata": {},
   "outputs": [],
   "source": []
  },
  {
   "cell_type": "markdown",
   "id": "d165bac7-aeac-4337-992b-0615b51a445e",
   "metadata": {},
   "source": [
    "### 17. Discuss the benefits of using abstraction in large-scale software development projects."
   ]
  },
  {
   "cell_type": "raw",
   "id": "8f7759d8-8748-4a38-8f37-22fb66a918e6",
   "metadata": {},
   "source": [
    "Abstraction is a fundamental principle in software development that allows developers to manage complexity, improve code maintainability, and enhance the scalability of large-scale software projectAbstraction is a fundamental principle in software development that allows developers to manage complexity, improve code maintainability, and enhance the scalability of large-scale software project."
   ]
  },
  {
   "cell_type": "code",
   "execution_count": null,
   "id": "f9015579-536e-41ef-9740-9f9964a4e928",
   "metadata": {},
   "outputs": [],
   "source": []
  },
  {
   "cell_type": "code",
   "execution_count": null,
   "id": "66bcbc66-a2aa-4081-a589-364ccc3d858b",
   "metadata": {},
   "outputs": [],
   "source": []
  }
 ],
 "metadata": {
  "kernelspec": {
   "display_name": "Python 3 (ipykernel)",
   "language": "python",
   "name": "python3"
  },
  "language_info": {
   "codemirror_mode": {
    "name": "ipython",
    "version": 3
   },
   "file_extension": ".py",
   "mimetype": "text/x-python",
   "name": "python",
   "nbconvert_exporter": "python",
   "pygments_lexer": "ipython3",
   "version": "3.10.8"
  }
 },
 "nbformat": 4,
 "nbformat_minor": 5
}
